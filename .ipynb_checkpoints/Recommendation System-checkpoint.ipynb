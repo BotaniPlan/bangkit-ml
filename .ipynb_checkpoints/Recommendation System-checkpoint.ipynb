{
 "cells": [
  {
   "cell_type": "code",
   "execution_count": 1,
   "id": "49fb9516",
   "metadata": {},
   "outputs": [
    {
     "data": {
      "text/html": [
       "<div>\n",
       "<style scoped>\n",
       "    .dataframe tbody tr th:only-of-type {\n",
       "        vertical-align: middle;\n",
       "    }\n",
       "\n",
       "    .dataframe tbody tr th {\n",
       "        vertical-align: top;\n",
       "    }\n",
       "\n",
       "    .dataframe thead th {\n",
       "        text-align: right;\n",
       "    }\n",
       "</style>\n",
       "<table border=\"1\" class=\"dataframe\">\n",
       "  <thead>\n",
       "    <tr style=\"text-align: right;\">\n",
       "      <th></th>\n",
       "      <th>Suhu udara (rata-rata (C))</th>\n",
       "      <th>Kelembaban udara (rata-rata %)</th>\n",
       "      <th>curah hujan minim (mm3)</th>\n",
       "      <th>curah hujan max (mm3)</th>\n",
       "      <th>Ketinggian\\n(dataran rendah 0&lt;200) (dataran tinggi &gt;200)</th>\n",
       "      <th>Tanaman</th>\n",
       "      <th>Daerah Penanaman</th>\n",
       "    </tr>\n",
       "  </thead>\n",
       "  <tbody>\n",
       "    <tr>\n",
       "      <th>0</th>\n",
       "      <td>26.4</td>\n",
       "      <td>76.5</td>\n",
       "      <td>21</td>\n",
       "      <td>50</td>\n",
       "      <td>90.0</td>\n",
       "      <td>cabai, bawang merah</td>\n",
       "      <td>Pacitan, ponorogo, tulungagung, blitar, lumaja...</td>\n",
       "    </tr>\n",
       "    <tr>\n",
       "      <th>1</th>\n",
       "      <td>26.4</td>\n",
       "      <td>76.5</td>\n",
       "      <td>21</td>\n",
       "      <td>50</td>\n",
       "      <td>505.0</td>\n",
       "      <td>bawang putih</td>\n",
       "      <td>Trenggalek, malang, bondowoso, ngawi, gresik, ...</td>\n",
       "    </tr>\n",
       "    <tr>\n",
       "      <th>2</th>\n",
       "      <td>29.6</td>\n",
       "      <td>74.0</td>\n",
       "      <td>51</td>\n",
       "      <td>100</td>\n",
       "      <td>90.0</td>\n",
       "      <td>cabai,Bawang merah, bawang putih</td>\n",
       "      <td>Pacitan, ponorogo, tulungagung, blitar, lumaja...</td>\n",
       "    </tr>\n",
       "    <tr>\n",
       "      <th>3</th>\n",
       "      <td>29.6</td>\n",
       "      <td>74.0</td>\n",
       "      <td>51</td>\n",
       "      <td>100</td>\n",
       "      <td>1100.0</td>\n",
       "      <td>cabai, kubis</td>\n",
       "      <td>Trenggalek, malang, bondowoso, ngawi, gresik, ...</td>\n",
       "    </tr>\n",
       "    <tr>\n",
       "      <th>4</th>\n",
       "      <td>28.9</td>\n",
       "      <td>74.5</td>\n",
       "      <td>101</td>\n",
       "      <td>150</td>\n",
       "      <td>2.8</td>\n",
       "      <td>Cabai</td>\n",
       "      <td>Pacitan, ponorogo, tulungagung, blitar, lumaja...</td>\n",
       "    </tr>\n",
       "  </tbody>\n",
       "</table>\n",
       "</div>"
      ],
      "text/plain": [
       "   Suhu udara (rata-rata (C))  Kelembaban udara (rata-rata %)  \\\n",
       "0                        26.4                            76.5   \n",
       "1                        26.4                            76.5   \n",
       "2                        29.6                            74.0   \n",
       "3                        29.6                            74.0   \n",
       "4                        28.9                            74.5   \n",
       "\n",
       "   curah hujan minim (mm3)  curah hujan max (mm3)  \\\n",
       "0                       21                     50   \n",
       "1                       21                     50   \n",
       "2                       51                    100   \n",
       "3                       51                    100   \n",
       "4                      101                    150   \n",
       "\n",
       "   Ketinggian\\n(dataran rendah 0<200) (dataran tinggi >200)  \\\n",
       "0                                               90.0          \n",
       "1                                              505.0          \n",
       "2                                               90.0          \n",
       "3                                             1100.0          \n",
       "4                                                2.8          \n",
       "\n",
       "                            Tanaman  \\\n",
       "0               cabai, bawang merah   \n",
       "1                      bawang putih   \n",
       "2  cabai,Bawang merah, bawang putih   \n",
       "3                      cabai, kubis   \n",
       "4                             Cabai   \n",
       "\n",
       "                                    Daerah Penanaman  \n",
       "0  Pacitan, ponorogo, tulungagung, blitar, lumaja...  \n",
       "1  Trenggalek, malang, bondowoso, ngawi, gresik, ...  \n",
       "2  Pacitan, ponorogo, tulungagung, blitar, lumaja...  \n",
       "3  Trenggalek, malang, bondowoso, ngawi, gresik, ...  \n",
       "4  Pacitan, ponorogo, tulungagung, blitar, lumaja...  "
      ]
     },
     "execution_count": 1,
     "metadata": {},
     "output_type": "execute_result"
    }
   ],
   "source": [
    "import pandas as pd\n",
    "import numpy as np\n",
    "\n",
    "df = pd.read_excel('data capstone projek bangkit 23.xlsx')\n",
    "df.head()"
   ]
  },
  {
   "cell_type": "code",
   "execution_count": 2,
   "id": "bb3a4f76",
   "metadata": {},
   "outputs": [
    {
     "name": "stdout",
     "output_type": "stream",
     "text": [
      "<class 'pandas.core.frame.DataFrame'>\n",
      "RangeIndex: 288 entries, 0 to 287\n",
      "Data columns (total 7 columns):\n",
      " #   Column                                                   Non-Null Count  Dtype  \n",
      "---  ------                                                   --------------  -----  \n",
      " 0   Suhu udara (rata-rata (C))                               288 non-null    float64\n",
      " 1   Kelembaban udara (rata-rata %)                           288 non-null    float64\n",
      " 2   curah hujan minim (mm3)                                  288 non-null    int64  \n",
      " 3   curah hujan max (mm3)                                    288 non-null    int64  \n",
      " 4   Ketinggian\n",
      "(dataran rendah 0<200) (dataran tinggi >200)  288 non-null    float64\n",
      " 5   Tanaman                                                  288 non-null    object \n",
      " 6   Daerah Penanaman                                         288 non-null    object \n",
      "dtypes: float64(3), int64(2), object(2)\n",
      "memory usage: 15.9+ KB\n"
     ]
    }
   ],
   "source": [
    "df.info()"
   ]
  },
  {
   "cell_type": "code",
   "execution_count": 3,
   "id": "0e86e77e",
   "metadata": {},
   "outputs": [
    {
     "data": {
      "text/html": [
       "<div>\n",
       "<style scoped>\n",
       "    .dataframe tbody tr th:only-of-type {\n",
       "        vertical-align: middle;\n",
       "    }\n",
       "\n",
       "    .dataframe tbody tr th {\n",
       "        vertical-align: top;\n",
       "    }\n",
       "\n",
       "    .dataframe thead th {\n",
       "        text-align: right;\n",
       "    }\n",
       "</style>\n",
       "<table border=\"1\" class=\"dataframe\">\n",
       "  <thead>\n",
       "    <tr style=\"text-align: right;\">\n",
       "      <th></th>\n",
       "      <th>Suhu udara (rata-rata (C))</th>\n",
       "      <th>Kelembaban udara (rata-rata %)</th>\n",
       "      <th>curah hujan minim (mm3)</th>\n",
       "      <th>curah hujan max (mm3)</th>\n",
       "      <th>Ketinggian\\n(dataran rendah 0&lt;200) (dataran tinggi &gt;200)</th>\n",
       "    </tr>\n",
       "  </thead>\n",
       "  <tbody>\n",
       "    <tr>\n",
       "      <th>count</th>\n",
       "      <td>288.000000</td>\n",
       "      <td>288.000000</td>\n",
       "      <td>288.000000</td>\n",
       "      <td>288.000000</td>\n",
       "      <td>288.000000</td>\n",
       "    </tr>\n",
       "    <tr>\n",
       "      <th>mean</th>\n",
       "      <td>28.059722</td>\n",
       "      <td>72.369792</td>\n",
       "      <td>104.680556</td>\n",
       "      <td>159.375000</td>\n",
       "      <td>366.040278</td>\n",
       "    </tr>\n",
       "    <tr>\n",
       "      <th>std</th>\n",
       "      <td>1.068218</td>\n",
       "      <td>5.952737</td>\n",
       "      <td>65.126481</td>\n",
       "      <td>85.635308</td>\n",
       "      <td>365.949794</td>\n",
       "    </tr>\n",
       "    <tr>\n",
       "      <th>min</th>\n",
       "      <td>24.300000</td>\n",
       "      <td>55.000000</td>\n",
       "      <td>21.000000</td>\n",
       "      <td>50.000000</td>\n",
       "      <td>2.800000</td>\n",
       "    </tr>\n",
       "    <tr>\n",
       "      <th>25%</th>\n",
       "      <td>27.475000</td>\n",
       "      <td>68.500000</td>\n",
       "      <td>51.000000</td>\n",
       "      <td>100.000000</td>\n",
       "      <td>50.000000</td>\n",
       "    </tr>\n",
       "    <tr>\n",
       "      <th>50%</th>\n",
       "      <td>28.200000</td>\n",
       "      <td>73.500000</td>\n",
       "      <td>101.000000</td>\n",
       "      <td>150.000000</td>\n",
       "      <td>205.500000</td>\n",
       "    </tr>\n",
       "    <tr>\n",
       "      <th>75%</th>\n",
       "      <td>28.800000</td>\n",
       "      <td>76.500000</td>\n",
       "      <td>151.000000</td>\n",
       "      <td>200.000000</td>\n",
       "      <td>637.000000</td>\n",
       "    </tr>\n",
       "    <tr>\n",
       "      <th>max</th>\n",
       "      <td>30.500000</td>\n",
       "      <td>84.000000</td>\n",
       "      <td>201.000000</td>\n",
       "      <td>300.000000</td>\n",
       "      <td>1100.000000</td>\n",
       "    </tr>\n",
       "  </tbody>\n",
       "</table>\n",
       "</div>"
      ],
      "text/plain": [
       "       Suhu udara (rata-rata (C))  Kelembaban udara (rata-rata %)  \\\n",
       "count                  288.000000                      288.000000   \n",
       "mean                    28.059722                       72.369792   \n",
       "std                      1.068218                        5.952737   \n",
       "min                     24.300000                       55.000000   \n",
       "25%                     27.475000                       68.500000   \n",
       "50%                     28.200000                       73.500000   \n",
       "75%                     28.800000                       76.500000   \n",
       "max                     30.500000                       84.000000   \n",
       "\n",
       "       curah hujan minim (mm3)  curah hujan max (mm3)  \\\n",
       "count               288.000000             288.000000   \n",
       "mean                104.680556             159.375000   \n",
       "std                  65.126481              85.635308   \n",
       "min                  21.000000              50.000000   \n",
       "25%                  51.000000             100.000000   \n",
       "50%                 101.000000             150.000000   \n",
       "75%                 151.000000             200.000000   \n",
       "max                 201.000000             300.000000   \n",
       "\n",
       "       Ketinggian\\n(dataran rendah 0<200) (dataran tinggi >200)  \n",
       "count                                         288.000000         \n",
       "mean                                          366.040278         \n",
       "std                                           365.949794         \n",
       "min                                             2.800000         \n",
       "25%                                            50.000000         \n",
       "50%                                           205.500000         \n",
       "75%                                           637.000000         \n",
       "max                                          1100.000000         "
      ]
     },
     "execution_count": 3,
     "metadata": {},
     "output_type": "execute_result"
    }
   ],
   "source": [
    "df.describe()"
   ]
  },
  {
   "cell_type": "markdown",
   "id": "19ecf45f",
   "metadata": {},
   "source": [
    "### Preprocess suhu udara"
   ]
  },
  {
   "cell_type": "code",
   "execution_count": 4,
   "id": "22a3c585",
   "metadata": {},
   "outputs": [
    {
     "data": {
      "text/html": [
       "<div>\n",
       "<style scoped>\n",
       "    .dataframe tbody tr th:only-of-type {\n",
       "        vertical-align: middle;\n",
       "    }\n",
       "\n",
       "    .dataframe tbody tr th {\n",
       "        vertical-align: top;\n",
       "    }\n",
       "\n",
       "    .dataframe thead th {\n",
       "        text-align: right;\n",
       "    }\n",
       "</style>\n",
       "<table border=\"1\" class=\"dataframe\">\n",
       "  <thead>\n",
       "    <tr style=\"text-align: right;\">\n",
       "      <th></th>\n",
       "      <th>avg_temp</th>\n",
       "    </tr>\n",
       "  </thead>\n",
       "  <tbody>\n",
       "    <tr>\n",
       "      <th>0</th>\n",
       "      <td>26.4</td>\n",
       "    </tr>\n",
       "    <tr>\n",
       "      <th>1</th>\n",
       "      <td>26.4</td>\n",
       "    </tr>\n",
       "    <tr>\n",
       "      <th>2</th>\n",
       "      <td>29.6</td>\n",
       "    </tr>\n",
       "    <tr>\n",
       "      <th>3</th>\n",
       "      <td>29.6</td>\n",
       "    </tr>\n",
       "    <tr>\n",
       "      <th>4</th>\n",
       "      <td>28.9</td>\n",
       "    </tr>\n",
       "  </tbody>\n",
       "</table>\n",
       "</div>"
      ],
      "text/plain": [
       "   avg_temp\n",
       "0      26.4\n",
       "1      26.4\n",
       "2      29.6\n",
       "3      29.6\n",
       "4      28.9"
      ]
     },
     "execution_count": 4,
     "metadata": {},
     "output_type": "execute_result"
    }
   ],
   "source": [
    "avg_temp_df = df.loc[:, ['Suhu udara (rata-rata (C))']].rename(columns={'Suhu udara (rata-rata (C))': 'avg_temp'})\n",
    "avg_temp_df.head()"
   ]
  },
  {
   "cell_type": "code",
   "execution_count": 5,
   "id": "91ae32da",
   "metadata": {},
   "outputs": [
    {
     "data": {
      "text/html": [
       "<div>\n",
       "<style scoped>\n",
       "    .dataframe tbody tr th:only-of-type {\n",
       "        vertical-align: middle;\n",
       "    }\n",
       "\n",
       "    .dataframe tbody tr th {\n",
       "        vertical-align: top;\n",
       "    }\n",
       "\n",
       "    .dataframe thead th {\n",
       "        text-align: right;\n",
       "    }\n",
       "</style>\n",
       "<table border=\"1\" class=\"dataframe\">\n",
       "  <thead>\n",
       "    <tr style=\"text-align: right;\">\n",
       "      <th></th>\n",
       "      <th>avg_temp</th>\n",
       "      <th>binned_avg_temp</th>\n",
       "    </tr>\n",
       "  </thead>\n",
       "  <tbody>\n",
       "    <tr>\n",
       "      <th>0</th>\n",
       "      <td>26.4</td>\n",
       "      <td>(24.299, 27.8]</td>\n",
       "    </tr>\n",
       "    <tr>\n",
       "      <th>1</th>\n",
       "      <td>26.4</td>\n",
       "      <td>(24.299, 27.8]</td>\n",
       "    </tr>\n",
       "    <tr>\n",
       "      <th>2</th>\n",
       "      <td>29.6</td>\n",
       "      <td>(28.6, 30.5]</td>\n",
       "    </tr>\n",
       "    <tr>\n",
       "      <th>3</th>\n",
       "      <td>29.6</td>\n",
       "      <td>(28.6, 30.5]</td>\n",
       "    </tr>\n",
       "    <tr>\n",
       "      <th>4</th>\n",
       "      <td>28.9</td>\n",
       "      <td>(28.6, 30.5]</td>\n",
       "    </tr>\n",
       "  </tbody>\n",
       "</table>\n",
       "</div>"
      ],
      "text/plain": [
       "   avg_temp binned_avg_temp\n",
       "0      26.4  (24.299, 27.8]\n",
       "1      26.4  (24.299, 27.8]\n",
       "2      29.6    (28.6, 30.5]\n",
       "3      29.6    (28.6, 30.5]\n",
       "4      28.9    (28.6, 30.5]"
      ]
     },
     "execution_count": 5,
     "metadata": {},
     "output_type": "execute_result"
    }
   ],
   "source": [
    "data = avg_temp_df['avg_temp'].values.tolist()\n",
    "avg_temp_df['binned_avg_temp'] = pd.qcut(data, q=3).astype(str)\n",
    "avg_temp_df.head()"
   ]
  },
  {
   "cell_type": "code",
   "execution_count": 6,
   "id": "94531b51",
   "metadata": {},
   "outputs": [
    {
     "data": {
      "image/png": "[encoded data removed]",
      "text/plain": [
       "<Figure size 432x288 with 1 Axes>"
      ]
     },
     "metadata": {},
     "output_type": "display_data"
    }
   ],
   "source": [
    "from matplotlib import pyplot as plt\n",
    "import seaborn as sns\n",
    "sns.set_style('whitegrid')\n",
    "# plt.rcParams['figure.figsize'] = (15, 7)\n",
    "\n",
    "sns.countplot(data=avg_temp_df, x='binned_avg_temp')\n",
    "plt.show()"
   ]
  },
  {
   "cell_type": "code",
   "execution_count": 7,
   "id": "c47d09f1",
   "metadata": {},
   "outputs": [],
   "source": [
    "def create_avg_temp_classification(value):\n",
    "    if value == '(24.299, 27.8]':\n",
    "        return 'low_temp'\n",
    "    elif value == '(27.8, 28.6]':\n",
    "        return 'medium_temp'\n",
    "    return 'high_temp'"
   ]
  },
  {
   "cell_type": "code",
   "execution_count": 8,
   "id": "995b1772",
   "metadata": {
    "scrolled": false
   },
   "outputs": [
    {
     "data": {
      "text/html": [
       "<div>\n",
       "<style scoped>\n",
       "    .dataframe tbody tr th:only-of-type {\n",
       "        vertical-align: middle;\n",
       "    }\n",
       "\n",
       "    .dataframe tbody tr th {\n",
       "        vertical-align: top;\n",
       "    }\n",
       "\n",
       "    .dataframe thead th {\n",
       "        text-align: right;\n",
       "    }\n",
       "</style>\n",
       "<table border=\"1\" class=\"dataframe\">\n",
       "  <thead>\n",
       "    <tr style=\"text-align: right;\">\n",
       "      <th></th>\n",
       "      <th>avg_temp</th>\n",
       "      <th>binned_avg_temp</th>\n",
       "      <th>avg_temp_classification</th>\n",
       "    </tr>\n",
       "  </thead>\n",
       "  <tbody>\n",
       "    <tr>\n",
       "      <th>0</th>\n",
       "      <td>26.4</td>\n",
       "      <td>(24.299, 27.8]</td>\n",
       "      <td>low_temp</td>\n",
       "    </tr>\n",
       "    <tr>\n",
       "      <th>1</th>\n",
       "      <td>26.4</td>\n",
       "      <td>(24.299, 27.8]</td>\n",
       "      <td>low_temp</td>\n",
       "    </tr>\n",
       "    <tr>\n",
       "      <th>2</th>\n",
       "      <td>29.6</td>\n",
       "      <td>(28.6, 30.5]</td>\n",
       "      <td>high_temp</td>\n",
       "    </tr>\n",
       "    <tr>\n",
       "      <th>3</th>\n",
       "      <td>29.6</td>\n",
       "      <td>(28.6, 30.5]</td>\n",
       "      <td>high_temp</td>\n",
       "    </tr>\n",
       "    <tr>\n",
       "      <th>4</th>\n",
       "      <td>28.9</td>\n",
       "      <td>(28.6, 30.5]</td>\n",
       "      <td>high_temp</td>\n",
       "    </tr>\n",
       "  </tbody>\n",
       "</table>\n",
       "</div>"
      ],
      "text/plain": [
       "   avg_temp binned_avg_temp avg_temp_classification\n",
       "0      26.4  (24.299, 27.8]                low_temp\n",
       "1      26.4  (24.299, 27.8]                low_temp\n",
       "2      29.6    (28.6, 30.5]               high_temp\n",
       "3      29.6    (28.6, 30.5]               high_temp\n",
       "4      28.9    (28.6, 30.5]               high_temp"
      ]
     },
     "execution_count": 8,
     "metadata": {},
     "output_type": "execute_result"
    }
   ],
   "source": [
    "avg_temp_df['avg_temp_classification'] = avg_temp_df['binned_avg_temp'].apply(create_avg_temp_classification)\n",
    "avg_temp_df.head()"
   ]
  },
  {
   "cell_type": "code",
   "execution_count": 9,
   "id": "6b7cdd60",
   "metadata": {},
   "outputs": [
    {
     "data": {
      "image/png": "[encoded data removed]",
      "text/plain": [
       "<Figure size 432x288 with 1 Axes>"
      ]
     },
     "metadata": {},
     "output_type": "display_data"
    }
   ],
   "source": [
    "sns.countplot(data=avg_temp_df, x='avg_temp_classification')\n",
    "plt.show()"
   ]
  },
  {
   "cell_type": "markdown",
   "id": "71479040",
   "metadata": {},
   "source": [
    "### Preprocess kelembaban udara"
   ]
  },
  {
   "cell_type": "code",
   "execution_count": 10,
   "id": "e1e4197f",
   "metadata": {},
   "outputs": [
    {
     "data": {
      "text/html": [
       "<div>\n",
       "<style scoped>\n",
       "    .dataframe tbody tr th:only-of-type {\n",
       "        vertical-align: middle;\n",
       "    }\n",
       "\n",
       "    .dataframe tbody tr th {\n",
       "        vertical-align: top;\n",
       "    }\n",
       "\n",
       "    .dataframe thead th {\n",
       "        text-align: right;\n",
       "    }\n",
       "</style>\n",
       "<table border=\"1\" class=\"dataframe\">\n",
       "  <thead>\n",
       "    <tr style=\"text-align: right;\">\n",
       "      <th></th>\n",
       "      <th>percent_humid</th>\n",
       "    </tr>\n",
       "  </thead>\n",
       "  <tbody>\n",
       "    <tr>\n",
       "      <th>0</th>\n",
       "      <td>76.5</td>\n",
       "    </tr>\n",
       "    <tr>\n",
       "      <th>1</th>\n",
       "      <td>76.5</td>\n",
       "    </tr>\n",
       "    <tr>\n",
       "      <th>2</th>\n",
       "      <td>74.0</td>\n",
       "    </tr>\n",
       "    <tr>\n",
       "      <th>3</th>\n",
       "      <td>74.0</td>\n",
       "    </tr>\n",
       "    <tr>\n",
       "      <th>4</th>\n",
       "      <td>74.5</td>\n",
       "    </tr>\n",
       "  </tbody>\n",
       "</table>\n",
       "</div>"
      ],
      "text/plain": [
       "   percent_humid\n",
       "0           76.5\n",
       "1           76.5\n",
       "2           74.0\n",
       "3           74.0\n",
       "4           74.5"
      ]
     },
     "execution_count": 10,
     "metadata": {},
     "output_type": "execute_result"
    }
   ],
   "source": [
    "percent_humid = df.loc[:, ['Kelembaban udara (rata-rata %)']] \\\n",
    "    .rename(columns={'Kelembaban udara (rata-rata %)': 'percent_humid'})\n",
    "percent_humid.head()"
   ]
  },
  {
   "cell_type": "code",
   "execution_count": 11,
   "id": "373e67cd",
   "metadata": {},
   "outputs": [
    {
     "data": {
      "text/html": [
       "<div>\n",
       "<style scoped>\n",
       "    .dataframe tbody tr th:only-of-type {\n",
       "        vertical-align: middle;\n",
       "    }\n",
       "\n",
       "    .dataframe tbody tr th {\n",
       "        vertical-align: top;\n",
       "    }\n",
       "\n",
       "    .dataframe thead th {\n",
       "        text-align: right;\n",
       "    }\n",
       "</style>\n",
       "<table border=\"1\" class=\"dataframe\">\n",
       "  <thead>\n",
       "    <tr style=\"text-align: right;\">\n",
       "      <th></th>\n",
       "      <th>percent_humid</th>\n",
       "    </tr>\n",
       "  </thead>\n",
       "  <tbody>\n",
       "    <tr>\n",
       "      <th>count</th>\n",
       "      <td>288.000000</td>\n",
       "    </tr>\n",
       "    <tr>\n",
       "      <th>mean</th>\n",
       "      <td>72.369792</td>\n",
       "    </tr>\n",
       "    <tr>\n",
       "      <th>std</th>\n",
       "      <td>5.952737</td>\n",
       "    </tr>\n",
       "    <tr>\n",
       "      <th>min</th>\n",
       "      <td>55.000000</td>\n",
       "    </tr>\n",
       "    <tr>\n",
       "      <th>25%</th>\n",
       "      <td>68.500000</td>\n",
       "    </tr>\n",
       "    <tr>\n",
       "      <th>50%</th>\n",
       "      <td>73.500000</td>\n",
       "    </tr>\n",
       "    <tr>\n",
       "      <th>75%</th>\n",
       "      <td>76.500000</td>\n",
       "    </tr>\n",
       "    <tr>\n",
       "      <th>max</th>\n",
       "      <td>84.000000</td>\n",
       "    </tr>\n",
       "  </tbody>\n",
       "</table>\n",
       "</div>"
      ],
      "text/plain": [
       "       percent_humid\n",
       "count     288.000000\n",
       "mean       72.369792\n",
       "std         5.952737\n",
       "min        55.000000\n",
       "25%        68.500000\n",
       "50%        73.500000\n",
       "75%        76.500000\n",
       "max        84.000000"
      ]
     },
     "execution_count": 11,
     "metadata": {},
     "output_type": "execute_result"
    }
   ],
   "source": [
    "percent_humid.describe()"
   ]
  },
  {
   "cell_type": "code",
   "execution_count": 12,
   "id": "b4bbe9d2",
   "metadata": {},
   "outputs": [],
   "source": [
    "# menurut https://www.higienis.com/blog/humidity-guide/#:~:text=Para%20ahli%20kesehatan%20merekomendasikan%20tingkat,%25%2C%20sebagai%20tingkat%20yang%20ideal.\n",
    "def create_humidity_classification(value):\n",
    "    if value < 45.:\n",
    "        return 'too_dry'\n",
    "    elif value >= 45. and value <= 65.:\n",
    "        return 'ideal'\n",
    "    return 'too_moist'"
   ]
  },
  {
   "cell_type": "code",
   "execution_count": 13,
   "id": "c02b2b22",
   "metadata": {},
   "outputs": [
    {
     "data": {
      "text/html": [
       "<div>\n",
       "<style scoped>\n",
       "    .dataframe tbody tr th:only-of-type {\n",
       "        vertical-align: middle;\n",
       "    }\n",
       "\n",
       "    .dataframe tbody tr th {\n",
       "        vertical-align: top;\n",
       "    }\n",
       "\n",
       "    .dataframe thead th {\n",
       "        text-align: right;\n",
       "    }\n",
       "</style>\n",
       "<table border=\"1\" class=\"dataframe\">\n",
       "  <thead>\n",
       "    <tr style=\"text-align: right;\">\n",
       "      <th></th>\n",
       "      <th>percent_humid</th>\n",
       "      <th>humid_classification</th>\n",
       "    </tr>\n",
       "  </thead>\n",
       "  <tbody>\n",
       "    <tr>\n",
       "      <th>0</th>\n",
       "      <td>76.5</td>\n",
       "      <td>too_moist</td>\n",
       "    </tr>\n",
       "    <tr>\n",
       "      <th>1</th>\n",
       "      <td>76.5</td>\n",
       "      <td>too_moist</td>\n",
       "    </tr>\n",
       "    <tr>\n",
       "      <th>2</th>\n",
       "      <td>74.0</td>\n",
       "      <td>too_moist</td>\n",
       "    </tr>\n",
       "    <tr>\n",
       "      <th>3</th>\n",
       "      <td>74.0</td>\n",
       "      <td>too_moist</td>\n",
       "    </tr>\n",
       "    <tr>\n",
       "      <th>4</th>\n",
       "      <td>74.5</td>\n",
       "      <td>too_moist</td>\n",
       "    </tr>\n",
       "  </tbody>\n",
       "</table>\n",
       "</div>"
      ],
      "text/plain": [
       "   percent_humid humid_classification\n",
       "0           76.5            too_moist\n",
       "1           76.5            too_moist\n",
       "2           74.0            too_moist\n",
       "3           74.0            too_moist\n",
       "4           74.5            too_moist"
      ]
     },
     "execution_count": 13,
     "metadata": {},
     "output_type": "execute_result"
    }
   ],
   "source": [
    "percent_humid['humid_classification'] = percent_humid['percent_humid'].apply(create_humidity_classification)\n",
    "percent_humid.head()"
   ]
  },
  {
   "cell_type": "code",
   "execution_count": 14,
   "id": "fc879ba5",
   "metadata": {},
   "outputs": [
    {
     "data": {
      "image/png": "[encoded data removed]",
      "text/plain": [
       "<Figure size 432x288 with 1 Axes>"
      ]
     },
     "metadata": {},
     "output_type": "display_data"
    }
   ],
   "source": [
    "sns.countplot(data=percent_humid, x='humid_classification')\n",
    "plt.show()"
   ]
  },
  {
   "cell_type": "markdown",
   "id": "30f77286",
   "metadata": {},
   "source": [
    "### Preprocess curah hujan"
   ]
  },
  {
   "cell_type": "code",
   "execution_count": 15,
   "id": "8958f1aa",
   "metadata": {},
   "outputs": [
    {
     "data": {
      "text/html": [
       "<div>\n",
       "<style scoped>\n",
       "    .dataframe tbody tr th:only-of-type {\n",
       "        vertical-align: middle;\n",
       "    }\n",
       "\n",
       "    .dataframe tbody tr th {\n",
       "        vertical-align: top;\n",
       "    }\n",
       "\n",
       "    .dataframe thead th {\n",
       "        text-align: right;\n",
       "    }\n",
       "</style>\n",
       "<table border=\"1\" class=\"dataframe\">\n",
       "  <thead>\n",
       "    <tr style=\"text-align: right;\">\n",
       "      <th></th>\n",
       "      <th>min_rainfall</th>\n",
       "      <th>max_rainfall</th>\n",
       "    </tr>\n",
       "  </thead>\n",
       "  <tbody>\n",
       "    <tr>\n",
       "      <th>0</th>\n",
       "      <td>21</td>\n",
       "      <td>50</td>\n",
       "    </tr>\n",
       "    <tr>\n",
       "      <th>1</th>\n",
       "      <td>21</td>\n",
       "      <td>50</td>\n",
       "    </tr>\n",
       "    <tr>\n",
       "      <th>2</th>\n",
       "      <td>51</td>\n",
       "      <td>100</td>\n",
       "    </tr>\n",
       "    <tr>\n",
       "      <th>3</th>\n",
       "      <td>51</td>\n",
       "      <td>100</td>\n",
       "    </tr>\n",
       "    <tr>\n",
       "      <th>4</th>\n",
       "      <td>101</td>\n",
       "      <td>150</td>\n",
       "    </tr>\n",
       "  </tbody>\n",
       "</table>\n",
       "</div>"
      ],
      "text/plain": [
       "   min_rainfall  max_rainfall\n",
       "0            21            50\n",
       "1            21            50\n",
       "2            51           100\n",
       "3            51           100\n",
       "4           101           150"
      ]
     },
     "execution_count": 15,
     "metadata": {},
     "output_type": "execute_result"
    }
   ],
   "source": [
    "rainfall = df.loc[:, ['curah hujan minim (mm3)', 'curah hujan max (mm3)']] \\\n",
    "    .rename(columns={'curah hujan minim (mm3)': 'min_rainfall', 'curah hujan max (mm3)': 'max_rainfall'})\n",
    "rainfall.head()"
   ]
  },
  {
   "cell_type": "code",
   "execution_count": 16,
   "id": "15c98e81",
   "metadata": {},
   "outputs": [
    {
     "data": {
      "text/html": [
       "<div>\n",
       "<style scoped>\n",
       "    .dataframe tbody tr th:only-of-type {\n",
       "        vertical-align: middle;\n",
       "    }\n",
       "\n",
       "    .dataframe tbody tr th {\n",
       "        vertical-align: top;\n",
       "    }\n",
       "\n",
       "    .dataframe thead th {\n",
       "        text-align: right;\n",
       "    }\n",
       "</style>\n",
       "<table border=\"1\" class=\"dataframe\">\n",
       "  <thead>\n",
       "    <tr style=\"text-align: right;\">\n",
       "      <th></th>\n",
       "      <th>min_rainfall</th>\n",
       "      <th>max_rainfall</th>\n",
       "    </tr>\n",
       "  </thead>\n",
       "  <tbody>\n",
       "    <tr>\n",
       "      <th>count</th>\n",
       "      <td>288.000000</td>\n",
       "      <td>288.000000</td>\n",
       "    </tr>\n",
       "    <tr>\n",
       "      <th>mean</th>\n",
       "      <td>104.680556</td>\n",
       "      <td>159.375000</td>\n",
       "    </tr>\n",
       "    <tr>\n",
       "      <th>std</th>\n",
       "      <td>65.126481</td>\n",
       "      <td>85.635308</td>\n",
       "    </tr>\n",
       "    <tr>\n",
       "      <th>min</th>\n",
       "      <td>21.000000</td>\n",
       "      <td>50.000000</td>\n",
       "    </tr>\n",
       "    <tr>\n",
       "      <th>25%</th>\n",
       "      <td>51.000000</td>\n",
       "      <td>100.000000</td>\n",
       "    </tr>\n",
       "    <tr>\n",
       "      <th>50%</th>\n",
       "      <td>101.000000</td>\n",
       "      <td>150.000000</td>\n",
       "    </tr>\n",
       "    <tr>\n",
       "      <th>75%</th>\n",
       "      <td>151.000000</td>\n",
       "      <td>200.000000</td>\n",
       "    </tr>\n",
       "    <tr>\n",
       "      <th>max</th>\n",
       "      <td>201.000000</td>\n",
       "      <td>300.000000</td>\n",
       "    </tr>\n",
       "  </tbody>\n",
       "</table>\n",
       "</div>"
      ],
      "text/plain": [
       "       min_rainfall  max_rainfall\n",
       "count    288.000000    288.000000\n",
       "mean     104.680556    159.375000\n",
       "std       65.126481     85.635308\n",
       "min       21.000000     50.000000\n",
       "25%       51.000000    100.000000\n",
       "50%      101.000000    150.000000\n",
       "75%      151.000000    200.000000\n",
       "max      201.000000    300.000000"
      ]
     },
     "execution_count": 16,
     "metadata": {},
     "output_type": "execute_result"
    }
   ],
   "source": [
    "rainfall.describe()"
   ]
  },
  {
   "cell_type": "code",
   "execution_count": 17,
   "id": "ab1ebb6e",
   "metadata": {},
   "outputs": [
    {
     "data": {
      "text/html": [
       "<div>\n",
       "<style scoped>\n",
       "    .dataframe tbody tr th:only-of-type {\n",
       "        vertical-align: middle;\n",
       "    }\n",
       "\n",
       "    .dataframe tbody tr th {\n",
       "        vertical-align: top;\n",
       "    }\n",
       "\n",
       "    .dataframe thead th {\n",
       "        text-align: right;\n",
       "    }\n",
       "</style>\n",
       "<table border=\"1\" class=\"dataframe\">\n",
       "  <thead>\n",
       "    <tr style=\"text-align: right;\">\n",
       "      <th></th>\n",
       "      <th>min_rainfall</th>\n",
       "      <th>max_rainfall</th>\n",
       "      <th>avg_rainfall</th>\n",
       "    </tr>\n",
       "  </thead>\n",
       "  <tbody>\n",
       "    <tr>\n",
       "      <th>0</th>\n",
       "      <td>21</td>\n",
       "      <td>50</td>\n",
       "      <td>35.5</td>\n",
       "    </tr>\n",
       "    <tr>\n",
       "      <th>1</th>\n",
       "      <td>21</td>\n",
       "      <td>50</td>\n",
       "      <td>35.5</td>\n",
       "    </tr>\n",
       "    <tr>\n",
       "      <th>2</th>\n",
       "      <td>51</td>\n",
       "      <td>100</td>\n",
       "      <td>75.5</td>\n",
       "    </tr>\n",
       "    <tr>\n",
       "      <th>3</th>\n",
       "      <td>51</td>\n",
       "      <td>100</td>\n",
       "      <td>75.5</td>\n",
       "    </tr>\n",
       "    <tr>\n",
       "      <th>4</th>\n",
       "      <td>101</td>\n",
       "      <td>150</td>\n",
       "      <td>125.5</td>\n",
       "    </tr>\n",
       "  </tbody>\n",
       "</table>\n",
       "</div>"
      ],
      "text/plain": [
       "   min_rainfall  max_rainfall  avg_rainfall\n",
       "0            21            50          35.5\n",
       "1            21            50          35.5\n",
       "2            51           100          75.5\n",
       "3            51           100          75.5\n",
       "4           101           150         125.5"
      ]
     },
     "execution_count": 17,
     "metadata": {},
     "output_type": "execute_result"
    }
   ],
   "source": [
    "rainfall['avg_rainfall'] = (rainfall['min_rainfall'] + rainfall['max_rainfall']) / 2\n",
    "rainfall.head()"
   ]
  },
  {
   "cell_type": "code",
   "execution_count": 18,
   "id": "cc30f4a8",
   "metadata": {},
   "outputs": [
    {
     "data": {
      "text/html": [
       "<div>\n",
       "<style scoped>\n",
       "    .dataframe tbody tr th:only-of-type {\n",
       "        vertical-align: middle;\n",
       "    }\n",
       "\n",
       "    .dataframe tbody tr th {\n",
       "        vertical-align: top;\n",
       "    }\n",
       "\n",
       "    .dataframe thead th {\n",
       "        text-align: right;\n",
       "    }\n",
       "</style>\n",
       "<table border=\"1\" class=\"dataframe\">\n",
       "  <thead>\n",
       "    <tr style=\"text-align: right;\">\n",
       "      <th></th>\n",
       "      <th>min_rainfall</th>\n",
       "      <th>max_rainfall</th>\n",
       "      <th>avg_rainfall</th>\n",
       "    </tr>\n",
       "  </thead>\n",
       "  <tbody>\n",
       "    <tr>\n",
       "      <th>count</th>\n",
       "      <td>288.000000</td>\n",
       "      <td>288.000000</td>\n",
       "      <td>288.000000</td>\n",
       "    </tr>\n",
       "    <tr>\n",
       "      <th>mean</th>\n",
       "      <td>104.680556</td>\n",
       "      <td>159.375000</td>\n",
       "      <td>132.027778</td>\n",
       "    </tr>\n",
       "    <tr>\n",
       "      <th>std</th>\n",
       "      <td>65.126481</td>\n",
       "      <td>85.635308</td>\n",
       "      <td>75.189141</td>\n",
       "    </tr>\n",
       "    <tr>\n",
       "      <th>min</th>\n",
       "      <td>21.000000</td>\n",
       "      <td>50.000000</td>\n",
       "      <td>35.500000</td>\n",
       "    </tr>\n",
       "    <tr>\n",
       "      <th>25%</th>\n",
       "      <td>51.000000</td>\n",
       "      <td>100.000000</td>\n",
       "      <td>75.500000</td>\n",
       "    </tr>\n",
       "    <tr>\n",
       "      <th>50%</th>\n",
       "      <td>101.000000</td>\n",
       "      <td>150.000000</td>\n",
       "      <td>125.500000</td>\n",
       "    </tr>\n",
       "    <tr>\n",
       "      <th>75%</th>\n",
       "      <td>151.000000</td>\n",
       "      <td>200.000000</td>\n",
       "      <td>175.500000</td>\n",
       "    </tr>\n",
       "    <tr>\n",
       "      <th>max</th>\n",
       "      <td>201.000000</td>\n",
       "      <td>300.000000</td>\n",
       "      <td>250.500000</td>\n",
       "    </tr>\n",
       "  </tbody>\n",
       "</table>\n",
       "</div>"
      ],
      "text/plain": [
       "       min_rainfall  max_rainfall  avg_rainfall\n",
       "count    288.000000    288.000000    288.000000\n",
       "mean     104.680556    159.375000    132.027778\n",
       "std       65.126481     85.635308     75.189141\n",
       "min       21.000000     50.000000     35.500000\n",
       "25%       51.000000    100.000000     75.500000\n",
       "50%      101.000000    150.000000    125.500000\n",
       "75%      151.000000    200.000000    175.500000\n",
       "max      201.000000    300.000000    250.500000"
      ]
     },
     "execution_count": 18,
     "metadata": {},
     "output_type": "execute_result"
    }
   ],
   "source": [
    "rainfall.describe()"
   ]
  },
  {
   "cell_type": "code",
   "execution_count": 19,
   "id": "7962c775",
   "metadata": {},
   "outputs": [],
   "source": [
    "# menurut https://bmkgsampali.net/normal-hujan-bulanan/#:~:text=Normal%20curah%20hujan%20ini%20terbagi,tinggi%20(%3E500%20mm).\n",
    "def create_avg_temp_classification(value):\n",
    "    if value > 0 and value < 100:\n",
    "        return 'low_rainfall'\n",
    "    elif value >= 100 and value < 300:\n",
    "        return 'medium_rainfall'\n",
    "    elif value >= 300 and value < 500:\n",
    "        return 'high_rainfall'\n",
    "    return 'very_high_rainfall'"
   ]
  },
  {
   "cell_type": "code",
   "execution_count": 20,
   "id": "d8a29c8f",
   "metadata": {},
   "outputs": [
    {
     "data": {
      "text/html": [
       "<div>\n",
       "<style scoped>\n",
       "    .dataframe tbody tr th:only-of-type {\n",
       "        vertical-align: middle;\n",
       "    }\n",
       "\n",
       "    .dataframe tbody tr th {\n",
       "        vertical-align: top;\n",
       "    }\n",
       "\n",
       "    .dataframe thead th {\n",
       "        text-align: right;\n",
       "    }\n",
       "</style>\n",
       "<table border=\"1\" class=\"dataframe\">\n",
       "  <thead>\n",
       "    <tr style=\"text-align: right;\">\n",
       "      <th></th>\n",
       "      <th>min_rainfall</th>\n",
       "      <th>max_rainfall</th>\n",
       "      <th>avg_rainfall</th>\n",
       "      <th>avg_rainfall_classification</th>\n",
       "    </tr>\n",
       "  </thead>\n",
       "  <tbody>\n",
       "    <tr>\n",
       "      <th>0</th>\n",
       "      <td>21</td>\n",
       "      <td>50</td>\n",
       "      <td>35.5</td>\n",
       "      <td>low_rainfall</td>\n",
       "    </tr>\n",
       "    <tr>\n",
       "      <th>1</th>\n",
       "      <td>21</td>\n",
       "      <td>50</td>\n",
       "      <td>35.5</td>\n",
       "      <td>low_rainfall</td>\n",
       "    </tr>\n",
       "    <tr>\n",
       "      <th>2</th>\n",
       "      <td>51</td>\n",
       "      <td>100</td>\n",
       "      <td>75.5</td>\n",
       "      <td>low_rainfall</td>\n",
       "    </tr>\n",
       "    <tr>\n",
       "      <th>3</th>\n",
       "      <td>51</td>\n",
       "      <td>100</td>\n",
       "      <td>75.5</td>\n",
       "      <td>low_rainfall</td>\n",
       "    </tr>\n",
       "    <tr>\n",
       "      <th>4</th>\n",
       "      <td>101</td>\n",
       "      <td>150</td>\n",
       "      <td>125.5</td>\n",
       "      <td>medium_rainfall</td>\n",
       "    </tr>\n",
       "  </tbody>\n",
       "</table>\n",
       "</div>"
      ],
      "text/plain": [
       "   min_rainfall  max_rainfall  avg_rainfall avg_rainfall_classification\n",
       "0            21            50          35.5                low_rainfall\n",
       "1            21            50          35.5                low_rainfall\n",
       "2            51           100          75.5                low_rainfall\n",
       "3            51           100          75.5                low_rainfall\n",
       "4           101           150         125.5             medium_rainfall"
      ]
     },
     "execution_count": 20,
     "metadata": {},
     "output_type": "execute_result"
    }
   ],
   "source": [
    "rainfall['avg_rainfall_classification'] = rainfall['avg_rainfall'].apply(create_avg_temp_classification)\n",
    "rainfall.head()"
   ]
  },
  {
   "cell_type": "code",
   "execution_count": 21,
   "id": "a0de4333",
   "metadata": {},
   "outputs": [
    {
     "data": {
      "image/png": "[encoded data removed]",
      "text/plain": [
       "<Figure size 432x288 with 1 Axes>"
      ]
     },
     "metadata": {},
     "output_type": "display_data"
    }
   ],
   "source": [
    "sns.countplot(data=rainfall, x='avg_rainfall_classification')\n",
    "plt.show()"
   ]
  },
  {
   "cell_type": "markdown",
   "id": "c8b9415d",
   "metadata": {},
   "source": [
    "### Preprocess altitude"
   ]
  },
  {
   "cell_type": "code",
   "execution_count": 22,
   "id": "decd1e19",
   "metadata": {},
   "outputs": [
    {
     "data": {
      "text/html": [
       "<div>\n",
       "<style scoped>\n",
       "    .dataframe tbody tr th:only-of-type {\n",
       "        vertical-align: middle;\n",
       "    }\n",
       "\n",
       "    .dataframe tbody tr th {\n",
       "        vertical-align: top;\n",
       "    }\n",
       "\n",
       "    .dataframe thead th {\n",
       "        text-align: right;\n",
       "    }\n",
       "</style>\n",
       "<table border=\"1\" class=\"dataframe\">\n",
       "  <thead>\n",
       "    <tr style=\"text-align: right;\">\n",
       "      <th></th>\n",
       "      <th>altitude</th>\n",
       "    </tr>\n",
       "  </thead>\n",
       "  <tbody>\n",
       "    <tr>\n",
       "      <th>0</th>\n",
       "      <td>90.0</td>\n",
       "    </tr>\n",
       "    <tr>\n",
       "      <th>1</th>\n",
       "      <td>505.0</td>\n",
       "    </tr>\n",
       "    <tr>\n",
       "      <th>2</th>\n",
       "      <td>90.0</td>\n",
       "    </tr>\n",
       "    <tr>\n",
       "      <th>3</th>\n",
       "      <td>1100.0</td>\n",
       "    </tr>\n",
       "    <tr>\n",
       "      <th>4</th>\n",
       "      <td>2.8</td>\n",
       "    </tr>\n",
       "  </tbody>\n",
       "</table>\n",
       "</div>"
      ],
      "text/plain": [
       "   altitude\n",
       "0      90.0\n",
       "1     505.0\n",
       "2      90.0\n",
       "3    1100.0\n",
       "4       2.8"
      ]
     },
     "execution_count": 22,
     "metadata": {},
     "output_type": "execute_result"
    }
   ],
   "source": [
    "altitude = df.loc[:, ['Ketinggian\\n(dataran rendah 0<200) (dataran tinggi >200)']] \\\n",
    "    .rename(columns={'Ketinggian\\n(dataran rendah 0<200) (dataran tinggi >200)': 'altitude'})\n",
    "altitude.head()"
   ]
  },
  {
   "cell_type": "code",
   "execution_count": 23,
   "id": "366b0325",
   "metadata": {},
   "outputs": [
    {
     "data": {
      "text/html": [
       "<div>\n",
       "<style scoped>\n",
       "    .dataframe tbody tr th:only-of-type {\n",
       "        vertical-align: middle;\n",
       "    }\n",
       "\n",
       "    .dataframe tbody tr th {\n",
       "        vertical-align: top;\n",
       "    }\n",
       "\n",
       "    .dataframe thead th {\n",
       "        text-align: right;\n",
       "    }\n",
       "</style>\n",
       "<table border=\"1\" class=\"dataframe\">\n",
       "  <thead>\n",
       "    <tr style=\"text-align: right;\">\n",
       "      <th></th>\n",
       "      <th>altitude</th>\n",
       "    </tr>\n",
       "  </thead>\n",
       "  <tbody>\n",
       "    <tr>\n",
       "      <th>count</th>\n",
       "      <td>288.000000</td>\n",
       "    </tr>\n",
       "    <tr>\n",
       "      <th>mean</th>\n",
       "      <td>366.040278</td>\n",
       "    </tr>\n",
       "    <tr>\n",
       "      <th>std</th>\n",
       "      <td>365.949794</td>\n",
       "    </tr>\n",
       "    <tr>\n",
       "      <th>min</th>\n",
       "      <td>2.800000</td>\n",
       "    </tr>\n",
       "    <tr>\n",
       "      <th>25%</th>\n",
       "      <td>50.000000</td>\n",
       "    </tr>\n",
       "    <tr>\n",
       "      <th>50%</th>\n",
       "      <td>205.500000</td>\n",
       "    </tr>\n",
       "    <tr>\n",
       "      <th>75%</th>\n",
       "      <td>637.000000</td>\n",
       "    </tr>\n",
       "    <tr>\n",
       "      <th>max</th>\n",
       "      <td>1100.000000</td>\n",
       "    </tr>\n",
       "  </tbody>\n",
       "</table>\n",
       "</div>"
      ],
      "text/plain": [
       "          altitude\n",
       "count   288.000000\n",
       "mean    366.040278\n",
       "std     365.949794\n",
       "min       2.800000\n",
       "25%      50.000000\n",
       "50%     205.500000\n",
       "75%     637.000000\n",
       "max    1100.000000"
      ]
     },
     "execution_count": 23,
     "metadata": {},
     "output_type": "execute_result"
    }
   ],
   "source": [
    "altitude.describe()"
   ]
  },
  {
   "cell_type": "code",
   "execution_count": 24,
   "id": "e2af21c3",
   "metadata": {},
   "outputs": [],
   "source": [
    "# menurut https://www.pelajaran.co.id/bentang-lahan-berdasarkan-ketinggian/\n",
    "def create_avg_temp_classification(value):\n",
    "    if value > 0 and value < 200:\n",
    "        return 'lowland'\n",
    "    elif value >= 200 and value < 500:\n",
    "        return 'hill'\n",
    "    return 'highland'"
   ]
  },
  {
   "cell_type": "code",
   "execution_count": 25,
   "id": "a72af084",
   "metadata": {},
   "outputs": [
    {
     "data": {
      "text/html": [
       "<div>\n",
       "<style scoped>\n",
       "    .dataframe tbody tr th:only-of-type {\n",
       "        vertical-align: middle;\n",
       "    }\n",
       "\n",
       "    .dataframe tbody tr th {\n",
       "        vertical-align: top;\n",
       "    }\n",
       "\n",
       "    .dataframe thead th {\n",
       "        text-align: right;\n",
       "    }\n",
       "</style>\n",
       "<table border=\"1\" class=\"dataframe\">\n",
       "  <thead>\n",
       "    <tr style=\"text-align: right;\">\n",
       "      <th></th>\n",
       "      <th>altitude</th>\n",
       "      <th>altitude_classification</th>\n",
       "    </tr>\n",
       "  </thead>\n",
       "  <tbody>\n",
       "    <tr>\n",
       "      <th>0</th>\n",
       "      <td>90.0</td>\n",
       "      <td>lowland</td>\n",
       "    </tr>\n",
       "    <tr>\n",
       "      <th>1</th>\n",
       "      <td>505.0</td>\n",
       "      <td>highland</td>\n",
       "    </tr>\n",
       "    <tr>\n",
       "      <th>2</th>\n",
       "      <td>90.0</td>\n",
       "      <td>lowland</td>\n",
       "    </tr>\n",
       "    <tr>\n",
       "      <th>3</th>\n",
       "      <td>1100.0</td>\n",
       "      <td>highland</td>\n",
       "    </tr>\n",
       "    <tr>\n",
       "      <th>4</th>\n",
       "      <td>2.8</td>\n",
       "      <td>lowland</td>\n",
       "    </tr>\n",
       "  </tbody>\n",
       "</table>\n",
       "</div>"
      ],
      "text/plain": [
       "   altitude altitude_classification\n",
       "0      90.0                 lowland\n",
       "1     505.0                highland\n",
       "2      90.0                 lowland\n",
       "3    1100.0                highland\n",
       "4       2.8                 lowland"
      ]
     },
     "execution_count": 25,
     "metadata": {},
     "output_type": "execute_result"
    }
   ],
   "source": [
    "altitude['altitude_classification'] = altitude['altitude'].apply(create_avg_temp_classification)\n",
    "altitude.head()"
   ]
  },
  {
   "cell_type": "code",
   "execution_count": 26,
   "id": "a1ed6184",
   "metadata": {},
   "outputs": [
    {
     "data": {
      "image/png": "[encoded data removed]",
      "text/plain": [
       "<Figure size 432x288 with 1 Axes>"
      ]
     },
     "metadata": {},
     "output_type": "display_data"
    }
   ],
   "source": [
    "sns.countplot(data=altitude, x='altitude_classification')\n",
    "plt.show()"
   ]
  },
  {
   "cell_type": "markdown",
   "id": "79e326ee",
   "metadata": {},
   "source": [
    "### Preprocess tanaman"
   ]
  },
  {
   "cell_type": "code",
   "execution_count": 27,
   "id": "46dafcea",
   "metadata": {},
   "outputs": [
    {
     "data": {
      "text/html": [
       "<div>\n",
       "<style scoped>\n",
       "    .dataframe tbody tr th:only-of-type {\n",
       "        vertical-align: middle;\n",
       "    }\n",
       "\n",
       "    .dataframe tbody tr th {\n",
       "        vertical-align: top;\n",
       "    }\n",
       "\n",
       "    .dataframe thead th {\n",
       "        text-align: right;\n",
       "    }\n",
       "</style>\n",
       "<table border=\"1\" class=\"dataframe\">\n",
       "  <thead>\n",
       "    <tr style=\"text-align: right;\">\n",
       "      <th></th>\n",
       "      <th>Tanaman</th>\n",
       "    </tr>\n",
       "  </thead>\n",
       "  <tbody>\n",
       "    <tr>\n",
       "      <th>0</th>\n",
       "      <td>cabai, bawang merah</td>\n",
       "    </tr>\n",
       "    <tr>\n",
       "      <th>1</th>\n",
       "      <td>bawang putih</td>\n",
       "    </tr>\n",
       "    <tr>\n",
       "      <th>2</th>\n",
       "      <td>cabai,Bawang merah, bawang putih</td>\n",
       "    </tr>\n",
       "    <tr>\n",
       "      <th>3</th>\n",
       "      <td>cabai, kubis</td>\n",
       "    </tr>\n",
       "    <tr>\n",
       "      <th>4</th>\n",
       "      <td>Cabai</td>\n",
       "    </tr>\n",
       "  </tbody>\n",
       "</table>\n",
       "</div>"
      ],
      "text/plain": [
       "                            Tanaman\n",
       "0               cabai, bawang merah\n",
       "1                      bawang putih\n",
       "2  cabai,Bawang merah, bawang putih\n",
       "3                      cabai, kubis\n",
       "4                             Cabai"
      ]
     },
     "execution_count": 27,
     "metadata": {},
     "output_type": "execute_result"
    }
   ],
   "source": [
    "plant = df.loc[:, ['Tanaman']]\n",
    "plant.head()"
   ]
  },
  {
   "cell_type": "code",
   "execution_count": 28,
   "id": "19798436",
   "metadata": {},
   "outputs": [
    {
     "data": {
      "image/png": "[encoded data removed]",
      "text/plain": [
       "<Figure size 432x288 with 1 Axes>"
      ]
     },
     "metadata": {},
     "output_type": "display_data"
    }
   ],
   "source": [
    "from wordcloud import WordCloud\n",
    "\n",
    "data = ' '.join(plant['Tanaman'].values.tolist())\n",
    "wordcloud = WordCloud(background_color='white').generate(data)\n",
    "plt.imshow(wordcloud, interpolation='bilinear')\n",
    "plt.axis(\"off\")\n",
    "plt.show()"
   ]
  },
  {
   "cell_type": "code",
   "execution_count": 29,
   "id": "a97c59b1",
   "metadata": {},
   "outputs": [],
   "source": [
    "import string\n",
    "import re\n",
    "\n",
    "def combine_plant(values):\n",
    "    combined = ''\n",
    "    for value in values.split(','):\n",
    "        if len(value.split()) > 1:\n",
    "            value = '-'.join(value.split())\n",
    "        if value == 'caba':\n",
    "            value = 'cabai'\n",
    "        if value == 'ccabai':\n",
    "            value = 'cabai'\n",
    "        if value == 'mruah':\n",
    "            value = 'bawang-merah'\n",
    "        if value == 'cabang':\n",
    "            value = 'cabai'\n",
    "        if value == 'kenrang':\n",
    "            value = 'kentang'\n",
    "        combined += value + ' '\n",
    "    return combined.strip()"
   ]
  },
  {
   "cell_type": "code",
   "execution_count": 30,
   "id": "a09b59ee",
   "metadata": {
    "scrolled": true
   },
   "outputs": [
    {
     "data": {
      "text/html": [
       "<div>\n",
       "<style scoped>\n",
       "    .dataframe tbody tr th:only-of-type {\n",
       "        vertical-align: middle;\n",
       "    }\n",
       "\n",
       "    .dataframe tbody tr th {\n",
       "        vertical-align: top;\n",
       "    }\n",
       "\n",
       "    .dataframe thead th {\n",
       "        text-align: right;\n",
       "    }\n",
       "</style>\n",
       "<table border=\"1\" class=\"dataframe\">\n",
       "  <thead>\n",
       "    <tr style=\"text-align: right;\">\n",
       "      <th></th>\n",
       "      <th>Tanaman</th>\n",
       "    </tr>\n",
       "  </thead>\n",
       "  <tbody>\n",
       "    <tr>\n",
       "      <th>0</th>\n",
       "      <td>cabai bawang-merah</td>\n",
       "    </tr>\n",
       "    <tr>\n",
       "      <th>1</th>\n",
       "      <td>bawang-putih</td>\n",
       "    </tr>\n",
       "    <tr>\n",
       "      <th>2</th>\n",
       "      <td>cabai bawang-merah bawang-putih</td>\n",
       "    </tr>\n",
       "    <tr>\n",
       "      <th>3</th>\n",
       "      <td>cabai  kubis</td>\n",
       "    </tr>\n",
       "    <tr>\n",
       "      <th>4</th>\n",
       "      <td>cabai</td>\n",
       "    </tr>\n",
       "  </tbody>\n",
       "</table>\n",
       "</div>"
      ],
      "text/plain": [
       "                           Tanaman\n",
       "0               cabai bawang-merah\n",
       "1                     bawang-putih\n",
       "2  cabai bawang-merah bawang-putih\n",
       "3                     cabai  kubis\n",
       "4                            cabai"
      ]
     },
     "execution_count": 30,
     "metadata": {},
     "output_type": "execute_result"
    }
   ],
   "source": [
    "plant['Tanaman'] = plant['Tanaman'].str.lower()\n",
    "plant['Tanaman'] = plant['Tanaman'].apply(combine_plant)\n",
    "plant.head()"
   ]
  },
  {
   "cell_type": "code",
   "execution_count": 31,
   "id": "c6ba2fc9",
   "metadata": {},
   "outputs": [
    {
     "data": {
      "image/png": "[encoded data removed]",
      "text/plain": [
       "<Figure size 432x288 with 1 Axes>"
      ]
     },
     "metadata": {},
     "output_type": "display_data"
    }
   ],
   "source": [
    "from wordcloud import WordCloud\n",
    "\n",
    "data = ' '.join(plant['Tanaman'].values.tolist())\n",
    "wordcloud = WordCloud(background_color='white').generate(data)\n",
    "plt.imshow(wordcloud, interpolation='bilinear')\n",
    "plt.axis(\"off\")\n",
    "plt.show()"
   ]
  },
  {
   "cell_type": "code",
   "execution_count": null,
   "id": "5af2910e",
   "metadata": {},
   "outputs": [],
   "source": []
  }
 ],
 "metadata": {
  "kernelspec": {
   "display_name": "Python 3 (ipykernel)",
   "language": "python",
   "name": "python3"
  },
  "language_info": {
   "codemirror_mode": {
    "name": "ipython",
    "version": 3
   },
   "file_extension": ".py",
   "mimetype": "text/x-python",
   "name": "python",
   "nbconvert_exporter": "python",
   "pygments_lexer": "ipython3",
   "version": "3.9.12"
  }
 },
 "nbformat": 4,
 "nbformat_minor": 5
}
