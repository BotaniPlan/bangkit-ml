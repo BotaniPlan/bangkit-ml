{
 "cells": [
  {
   "cell_type": "code",
   "execution_count": 1,
   "metadata": {
    "id": "RdXmqyjJHhVO"
   },
   "outputs": [],
   "source": [
    "import pandas as pd\n",
    "import numpy as np\n",
    "import matplotlib.pyplot as plt\n",
    "from sklearn.preprocessing import MinMaxScaler\n",
    "from tensorflow.keras.models import Sequential\n",
    "from sklearn.metrics import mean_absolute_error\n",
    "from tensorflow.keras.layers import Dense\n",
    "from keras.layers import Flatten\n",
    "import math"
   ]
  },
  {
   "cell_type": "code",
   "execution_count": 2,
   "metadata": {
    "colab": {
     "base_uri": "https://localhost:8080/"
    },
    "id": "MwhK54zEImwL",
    "outputId": "8e66dba7-a87a-4279-811b-03e83e13efe0"
   },
   "outputs": [
    {
     "data": {
      "text/html": [
       "<div>\n",
       "<style scoped>\n",
       "    .dataframe tbody tr th:only-of-type {\n",
       "        vertical-align: middle;\n",
       "    }\n",
       "\n",
       "    .dataframe tbody tr th {\n",
       "        vertical-align: top;\n",
       "    }\n",
       "\n",
       "    .dataframe thead th {\n",
       "        text-align: right;\n",
       "    }\n",
       "</style>\n",
       "<table border=\"1\" class=\"dataframe\">\n",
       "  <thead>\n",
       "    <tr style=\"text-align: right;\">\n",
       "      <th></th>\n",
       "      <th>Daerah</th>\n",
       "      <th>tahun</th>\n",
       "      <th>tanaman</th>\n",
       "      <th>Luas panen (ha)</th>\n",
       "      <th>produksi (kuintal)</th>\n",
       "      <th>harga (/kg)</th>\n",
       "    </tr>\n",
       "  </thead>\n",
       "  <tbody>\n",
       "    <tr>\n",
       "      <th>0</th>\n",
       "      <td>Pacitan</td>\n",
       "      <td>2020</td>\n",
       "      <td>Cabai Rawit</td>\n",
       "      <td>259.0</td>\n",
       "      <td>8252.0</td>\n",
       "      <td>18000</td>\n",
       "    </tr>\n",
       "    <tr>\n",
       "      <th>1</th>\n",
       "      <td>Ponorogo</td>\n",
       "      <td>2020</td>\n",
       "      <td>Cabai Rawit</td>\n",
       "      <td>467.0</td>\n",
       "      <td>20335.0</td>\n",
       "      <td>13500</td>\n",
       "    </tr>\n",
       "    <tr>\n",
       "      <th>2</th>\n",
       "      <td>Trenggalek</td>\n",
       "      <td>2020</td>\n",
       "      <td>Cabai Rawit</td>\n",
       "      <td>411.0</td>\n",
       "      <td>10378.0</td>\n",
       "      <td>14500</td>\n",
       "    </tr>\n",
       "    <tr>\n",
       "      <th>3</th>\n",
       "      <td>Tulungagung</td>\n",
       "      <td>2020</td>\n",
       "      <td>Cabai Rawit</td>\n",
       "      <td>239.0</td>\n",
       "      <td>9491.0</td>\n",
       "      <td>14666</td>\n",
       "    </tr>\n",
       "    <tr>\n",
       "      <th>4</th>\n",
       "      <td>Blitar</td>\n",
       "      <td>2020</td>\n",
       "      <td>Cabai Rawit</td>\n",
       "      <td>10745.0</td>\n",
       "      <td>1881377.0</td>\n",
       "      <td>14500</td>\n",
       "    </tr>\n",
       "  </tbody>\n",
       "</table>\n",
       "</div>"
      ],
      "text/plain": [
       "        Daerah  tahun      tanaman  Luas panen (ha)  produksi (kuintal)  \\\n",
       "0      Pacitan   2020  Cabai Rawit            259.0              8252.0   \n",
       "1     Ponorogo   2020  Cabai Rawit            467.0             20335.0   \n",
       "2   Trenggalek   2020  Cabai Rawit            411.0             10378.0   \n",
       "3  Tulungagung   2020  Cabai Rawit            239.0              9491.0   \n",
       "4       Blitar   2020  Cabai Rawit          10745.0           1881377.0   \n",
       "\n",
       "   harga (/kg)  \n",
       "0        18000  \n",
       "1        13500  \n",
       "2        14500  \n",
       "3        14666  \n",
       "4        14500  "
      ]
     },
     "execution_count": 2,
     "metadata": {},
     "output_type": "execute_result"
    }
   ],
   "source": [
    "pd.set_option('display.max_columns', None)\n",
    "data = pd.read_excel('ML_predicion_harga.xlsx')\n",
    "data.head()"
   ]
  },
  {
   "cell_type": "code",
   "execution_count": 3,
   "metadata": {
    "colab": {
     "base_uri": "https://localhost:8080/"
    },
    "id": "3865LFzOMVPZ",
    "outputId": "f4948018-becf-4796-ab9d-5fb75930cf2a"
   },
   "outputs": [
    {
     "name": "stdout",
     "output_type": "stream",
     "text": [
      "<class 'pandas.core.frame.DataFrame'>\n",
      "RangeIndex: 465 entries, 0 to 464\n",
      "Data columns (total 6 columns):\n",
      " #   Column              Non-Null Count  Dtype  \n",
      "---  ------              --------------  -----  \n",
      " 0   Daerah              465 non-null    object \n",
      " 1   tahun               465 non-null    int64  \n",
      " 2   tanaman             465 non-null    object \n",
      " 3   Luas panen (ha)     465 non-null    float64\n",
      " 4   produksi (kuintal)  465 non-null    float64\n",
      " 5   harga (/kg)         465 non-null    int64  \n",
      "dtypes: float64(2), int64(2), object(2)\n",
      "memory usage: 21.9+ KB\n"
     ]
    }
   ],
   "source": [
    "data.info()"
   ]
  },
  {
   "cell_type": "code",
   "execution_count": 4,
   "metadata": {},
   "outputs": [
    {
     "data": {
      "text/html": [
       "<div>\n",
       "<style scoped>\n",
       "    .dataframe tbody tr th:only-of-type {\n",
       "        vertical-align: middle;\n",
       "    }\n",
       "\n",
       "    .dataframe tbody tr th {\n",
       "        vertical-align: top;\n",
       "    }\n",
       "\n",
       "    .dataframe thead th {\n",
       "        text-align: right;\n",
       "    }\n",
       "</style>\n",
       "<table border=\"1\" class=\"dataframe\">\n",
       "  <thead>\n",
       "    <tr style=\"text-align: right;\">\n",
       "      <th></th>\n",
       "      <th>tahun</th>\n",
       "      <th>Luas panen (ha)</th>\n",
       "      <th>produksi (kuintal)</th>\n",
       "      <th>harga (/kg)</th>\n",
       "    </tr>\n",
       "  </thead>\n",
       "  <tbody>\n",
       "    <tr>\n",
       "      <th>count</th>\n",
       "      <td>465.000000</td>\n",
       "      <td>465.000000</td>\n",
       "      <td>4.650000e+02</td>\n",
       "      <td>465.000000</td>\n",
       "    </tr>\n",
       "    <tr>\n",
       "      <th>mean</th>\n",
       "      <td>2021.000000</td>\n",
       "      <td>759.283658</td>\n",
       "      <td>8.387045e+04</td>\n",
       "      <td>23248.017204</td>\n",
       "    </tr>\n",
       "    <tr>\n",
       "      <th>std</th>\n",
       "      <td>0.817376</td>\n",
       "      <td>2105.628361</td>\n",
       "      <td>2.954237e+05</td>\n",
       "      <td>15639.849090</td>\n",
       "    </tr>\n",
       "    <tr>\n",
       "      <th>min</th>\n",
       "      <td>2020.000000</td>\n",
       "      <td>-1.000000</td>\n",
       "      <td>-1.000000e+00</td>\n",
       "      <td>4425.000000</td>\n",
       "    </tr>\n",
       "    <tr>\n",
       "      <th>25%</th>\n",
       "      <td>2020.000000</td>\n",
       "      <td>-1.000000</td>\n",
       "      <td>-1.000000e+00</td>\n",
       "      <td>12125.000000</td>\n",
       "    </tr>\n",
       "    <tr>\n",
       "      <th>50%</th>\n",
       "      <td>2021.000000</td>\n",
       "      <td>13.000000</td>\n",
       "      <td>1.121110e+02</td>\n",
       "      <td>19333.000000</td>\n",
       "    </tr>\n",
       "    <tr>\n",
       "      <th>75%</th>\n",
       "      <td>2022.000000</td>\n",
       "      <td>394.000000</td>\n",
       "      <td>1.676000e+04</td>\n",
       "      <td>30000.000000</td>\n",
       "    </tr>\n",
       "    <tr>\n",
       "      <th>max</th>\n",
       "      <td>2022.000000</td>\n",
       "      <td>17345.000000</td>\n",
       "      <td>2.785837e+06</td>\n",
       "      <td>75000.000000</td>\n",
       "    </tr>\n",
       "  </tbody>\n",
       "</table>\n",
       "</div>"
      ],
      "text/plain": [
       "             tahun  Luas panen (ha)  produksi (kuintal)   harga (/kg)\n",
       "count   465.000000       465.000000        4.650000e+02    465.000000\n",
       "mean   2021.000000       759.283658        8.387045e+04  23248.017204\n",
       "std       0.817376      2105.628361        2.954237e+05  15639.849090\n",
       "min    2020.000000        -1.000000       -1.000000e+00   4425.000000\n",
       "25%    2020.000000        -1.000000       -1.000000e+00  12125.000000\n",
       "50%    2021.000000        13.000000        1.121110e+02  19333.000000\n",
       "75%    2022.000000       394.000000        1.676000e+04  30000.000000\n",
       "max    2022.000000     17345.000000        2.785837e+06  75000.000000"
      ]
     },
     "execution_count": 4,
     "metadata": {},
     "output_type": "execute_result"
    }
   ],
   "source": [
    "data.describe()"
   ]
  },
  {
   "cell_type": "code",
   "execution_count": 5,
   "metadata": {},
   "outputs": [
    {
     "data": {
      "text/plain": [
       "Daerah                0\n",
       "tahun                 0\n",
       "tanaman               0\n",
       "Luas panen (ha)       0\n",
       "produksi (kuintal)    0\n",
       "harga (/kg)           0\n",
       "dtype: int64"
      ]
     },
     "execution_count": 5,
     "metadata": {},
     "output_type": "execute_result"
    }
   ],
   "source": [
    "data.isna().sum()"
   ]
  },
  {
   "cell_type": "code",
   "execution_count": 6,
   "metadata": {},
   "outputs": [
    {
     "data": {
      "text/plain": [
       "Daerah                0\n",
       "tahun                 0\n",
       "tanaman               0\n",
       "Luas panen (ha)       0\n",
       "produksi (kuintal)    0\n",
       "harga (/kg)           0\n",
       "dtype: int64"
      ]
     },
     "execution_count": 6,
     "metadata": {},
     "output_type": "execute_result"
    }
   ],
   "source": [
    "data.isnull().sum()"
   ]
  },
  {
   "cell_type": "code",
   "execution_count": 7,
   "metadata": {},
   "outputs": [],
   "source": [
    "data.loc[data['Luas panen (ha)'] < 0, 'Luas panen (ha)'] = 1"
   ]
  },
  {
   "cell_type": "code",
   "execution_count": 8,
   "metadata": {},
   "outputs": [],
   "source": [
    "data.loc[data['produksi (kuintal)'] < 0, 'produksi (kuintal)'] = 1"
   ]
  },
  {
   "cell_type": "code",
   "execution_count": 9,
   "metadata": {},
   "outputs": [
    {
     "data": {
      "text/html": [
       "<div>\n",
       "<style scoped>\n",
       "    .dataframe tbody tr th:only-of-type {\n",
       "        vertical-align: middle;\n",
       "    }\n",
       "\n",
       "    .dataframe tbody tr th {\n",
       "        vertical-align: top;\n",
       "    }\n",
       "\n",
       "    .dataframe thead th {\n",
       "        text-align: right;\n",
       "    }\n",
       "</style>\n",
       "<table border=\"1\" class=\"dataframe\">\n",
       "  <thead>\n",
       "    <tr style=\"text-align: right;\">\n",
       "      <th></th>\n",
       "      <th>Daerah</th>\n",
       "      <th>tahun</th>\n",
       "      <th>tanaman</th>\n",
       "      <th>Luas panen (ha)</th>\n",
       "      <th>produksi (kuintal)</th>\n",
       "      <th>harga (/kg)</th>\n",
       "    </tr>\n",
       "  </thead>\n",
       "  <tbody>\n",
       "  </tbody>\n",
       "</table>\n",
       "</div>"
      ],
      "text/plain": [
       "Empty DataFrame\n",
       "Columns: [Daerah, tahun, tanaman, Luas panen (ha), produksi (kuintal), harga (/kg)]\n",
       "Index: []"
      ]
     },
     "execution_count": 9,
     "metadata": {},
     "output_type": "execute_result"
    }
   ],
   "source": [
    "data.loc[data['Luas panen (ha)'] == 0]"
   ]
  },
  {
   "cell_type": "code",
   "execution_count": 10,
   "metadata": {},
   "outputs": [
    {
     "data": {
      "text/html": [
       "<div>\n",
       "<style scoped>\n",
       "    .dataframe tbody tr th:only-of-type {\n",
       "        vertical-align: middle;\n",
       "    }\n",
       "\n",
       "    .dataframe tbody tr th {\n",
       "        vertical-align: top;\n",
       "    }\n",
       "\n",
       "    .dataframe thead th {\n",
       "        text-align: right;\n",
       "    }\n",
       "</style>\n",
       "<table border=\"1\" class=\"dataframe\">\n",
       "  <thead>\n",
       "    <tr style=\"text-align: right;\">\n",
       "      <th></th>\n",
       "      <th>Daerah</th>\n",
       "      <th>tahun</th>\n",
       "      <th>tanaman</th>\n",
       "      <th>Luas panen (ha)</th>\n",
       "      <th>produksi (kuintal)</th>\n",
       "      <th>harga (/kg)</th>\n",
       "    </tr>\n",
       "  </thead>\n",
       "  <tbody>\n",
       "  </tbody>\n",
       "</table>\n",
       "</div>"
      ],
      "text/plain": [
       "Empty DataFrame\n",
       "Columns: [Daerah, tahun, tanaman, Luas panen (ha), produksi (kuintal), harga (/kg)]\n",
       "Index: []"
      ]
     },
     "execution_count": 10,
     "metadata": {},
     "output_type": "execute_result"
    }
   ],
   "source": [
    "data.loc[data['produksi (kuintal)'] == 0]"
   ]
  },
  {
   "cell_type": "code",
   "execution_count": 11,
   "metadata": {},
   "outputs": [
    {
     "data": {
      "image/png": "[encoded data removed]",
      "text/plain": [
       "<Figure size 1440x504 with 1 Axes>"
      ]
     },
     "metadata": {
      "needs_background": "light"
     },
     "output_type": "display_data"
    }
   ],
   "source": [
    "from matplotlib import pyplot as plt\n",
    "import seaborn as sns\n",
    "plt.rcParams['figure.figsize'] = (20,7)\n",
    "\n",
    "sns.countplot(data=data, x='Daerah')\n",
    "plt.show()"
   ]
  },
  {
   "cell_type": "code",
   "execution_count": 12,
   "metadata": {},
   "outputs": [
    {
     "data": {
      "image/png": "[encoded data removed]",
      "text/plain": [
       "<Figure size 1440x504 with 1 Axes>"
      ]
     },
     "metadata": {
      "needs_background": "light"
     },
     "output_type": "display_data"
    }
   ],
   "source": [
    "sns.countplot(data=data, x='tanaman')\n",
    "plt.show()"
   ]
  },
  {
   "cell_type": "code",
   "execution_count": 13,
   "metadata": {},
   "outputs": [
    {
     "data": {
      "image/png": "[encoded data removed]",
      "text/plain": [
       "<Figure size 1440x504 with 1 Axes>"
      ]
     },
     "metadata": {
      "needs_background": "light"
     },
     "output_type": "display_data"
    }
   ],
   "source": [
    "sns.lineplot(data=data, x='tahun', y='harga (/kg)', hue='tanaman')\n",
    "plt.show()"
   ]
  },
  {
   "cell_type": "code",
   "execution_count": 14,
   "metadata": {},
   "outputs": [
    {
     "data": {
      "image/png": "[encoded data removed]",
      "text/plain": [
       "<Figure size 1440x504 with 1 Axes>"
      ]
     },
     "metadata": {
      "needs_background": "light"
     },
     "output_type": "display_data"
    }
   ],
   "source": [
    "sns.histplot(data=data, x='Luas panen (ha)', kde=True)\n",
    "plt.show()"
   ]
  },
  {
   "cell_type": "code",
   "execution_count": 15,
   "metadata": {},
   "outputs": [
    {
     "data": {
      "image/png": "[encoded data removed]",
      "text/plain": [
       "<Figure size 1440x504 with 1 Axes>"
      ]
     },
     "metadata": {
      "needs_background": "light"
     },
     "output_type": "display_data"
    }
   ],
   "source": [
    "sns.histplot(data=data, x='produksi (kuintal)', kde=True)\n",
    "plt.show()"
   ]
  },
  {
   "cell_type": "code",
   "execution_count": 16,
   "metadata": {},
   "outputs": [
    {
     "data": {
      "image/png": "[encoded data removed]",
      "text/plain": [
       "<Figure size 1440x504 with 1 Axes>"
      ]
     },
     "metadata": {
      "needs_background": "light"
     },
     "output_type": "display_data"
    }
   ],
   "source": [
    "sns.histplot(data=data, x='harga (/kg)', kde=True)\n",
    "plt.show()"
   ]
  },
  {
   "cell_type": "code",
   "execution_count": 17,
   "metadata": {},
   "outputs": [
    {
     "data": {
      "text/html": [
       "<div>\n",
       "<style scoped>\n",
       "    .dataframe tbody tr th:only-of-type {\n",
       "        vertical-align: middle;\n",
       "    }\n",
       "\n",
       "    .dataframe tbody tr th {\n",
       "        vertical-align: top;\n",
       "    }\n",
       "\n",
       "    .dataframe thead th {\n",
       "        text-align: right;\n",
       "    }\n",
       "</style>\n",
       "<table border=\"1\" class=\"dataframe\">\n",
       "  <thead>\n",
       "    <tr style=\"text-align: right;\">\n",
       "      <th></th>\n",
       "      <th>tahun</th>\n",
       "      <th>Luas panen (ha)</th>\n",
       "      <th>produksi (kuintal)</th>\n",
       "      <th>harga (/kg)</th>\n",
       "      <th>Daerah_Bangkalan</th>\n",
       "      <th>Daerah_Banyuwangi</th>\n",
       "      <th>Daerah_Batu</th>\n",
       "      <th>Daerah_Blitar</th>\n",
       "      <th>Daerah_Bojonegoro</th>\n",
       "      <th>Daerah_Bondowoso</th>\n",
       "      <th>Daerah_Gresik</th>\n",
       "      <th>Daerah_Jember</th>\n",
       "      <th>Daerah_Jombang</th>\n",
       "      <th>Daerah_Kediri</th>\n",
       "      <th>Daerah_Lamongan</th>\n",
       "      <th>Daerah_Lumajang</th>\n",
       "      <th>Daerah_Madiun</th>\n",
       "      <th>Daerah_Magetan</th>\n",
       "      <th>Daerah_Malang</th>\n",
       "      <th>Daerah_Mojokerto</th>\n",
       "      <th>Daerah_Nganjuk</th>\n",
       "      <th>Daerah_Ngawi</th>\n",
       "      <th>Daerah_Pacitan</th>\n",
       "      <th>Daerah_Pamekasan</th>\n",
       "      <th>Daerah_Pasuruan</th>\n",
       "      <th>Daerah_Ponorogo</th>\n",
       "      <th>Daerah_Probolinggo</th>\n",
       "      <th>Daerah_Sampang</th>\n",
       "      <th>Daerah_Sidoarjo</th>\n",
       "      <th>Daerah_Situbondo</th>\n",
       "      <th>Daerah_Sumenep</th>\n",
       "      <th>Daerah_Surabaya</th>\n",
       "      <th>Daerah_Trenggalek</th>\n",
       "      <th>Daerah_Tuban</th>\n",
       "      <th>Daerah_Tulungagung</th>\n",
       "      <th>tanaman_Bawang merah</th>\n",
       "      <th>tanaman_Bawang putih</th>\n",
       "      <th>tanaman_Cabai Rawit</th>\n",
       "      <th>tanaman_Kentang</th>\n",
       "      <th>tanaman_Kubis</th>\n",
       "    </tr>\n",
       "  </thead>\n",
       "  <tbody>\n",
       "    <tr>\n",
       "      <th>0</th>\n",
       "      <td>2020</td>\n",
       "      <td>259.0</td>\n",
       "      <td>8252.0</td>\n",
       "      <td>18000</td>\n",
       "      <td>0</td>\n",
       "      <td>0</td>\n",
       "      <td>0</td>\n",
       "      <td>0</td>\n",
       "      <td>0</td>\n",
       "      <td>0</td>\n",
       "      <td>0</td>\n",
       "      <td>0</td>\n",
       "      <td>0</td>\n",
       "      <td>0</td>\n",
       "      <td>0</td>\n",
       "      <td>0</td>\n",
       "      <td>0</td>\n",
       "      <td>0</td>\n",
       "      <td>0</td>\n",
       "      <td>0</td>\n",
       "      <td>0</td>\n",
       "      <td>0</td>\n",
       "      <td>1</td>\n",
       "      <td>0</td>\n",
       "      <td>0</td>\n",
       "      <td>0</td>\n",
       "      <td>0</td>\n",
       "      <td>0</td>\n",
       "      <td>0</td>\n",
       "      <td>0</td>\n",
       "      <td>0</td>\n",
       "      <td>0</td>\n",
       "      <td>0</td>\n",
       "      <td>0</td>\n",
       "      <td>0</td>\n",
       "      <td>0</td>\n",
       "      <td>0</td>\n",
       "      <td>1</td>\n",
       "      <td>0</td>\n",
       "      <td>0</td>\n",
       "    </tr>\n",
       "    <tr>\n",
       "      <th>1</th>\n",
       "      <td>2020</td>\n",
       "      <td>467.0</td>\n",
       "      <td>20335.0</td>\n",
       "      <td>13500</td>\n",
       "      <td>0</td>\n",
       "      <td>0</td>\n",
       "      <td>0</td>\n",
       "      <td>0</td>\n",
       "      <td>0</td>\n",
       "      <td>0</td>\n",
       "      <td>0</td>\n",
       "      <td>0</td>\n",
       "      <td>0</td>\n",
       "      <td>0</td>\n",
       "      <td>0</td>\n",
       "      <td>0</td>\n",
       "      <td>0</td>\n",
       "      <td>0</td>\n",
       "      <td>0</td>\n",
       "      <td>0</td>\n",
       "      <td>0</td>\n",
       "      <td>0</td>\n",
       "      <td>0</td>\n",
       "      <td>0</td>\n",
       "      <td>0</td>\n",
       "      <td>1</td>\n",
       "      <td>0</td>\n",
       "      <td>0</td>\n",
       "      <td>0</td>\n",
       "      <td>0</td>\n",
       "      <td>0</td>\n",
       "      <td>0</td>\n",
       "      <td>0</td>\n",
       "      <td>0</td>\n",
       "      <td>0</td>\n",
       "      <td>0</td>\n",
       "      <td>0</td>\n",
       "      <td>1</td>\n",
       "      <td>0</td>\n",
       "      <td>0</td>\n",
       "    </tr>\n",
       "    <tr>\n",
       "      <th>2</th>\n",
       "      <td>2020</td>\n",
       "      <td>411.0</td>\n",
       "      <td>10378.0</td>\n",
       "      <td>14500</td>\n",
       "      <td>0</td>\n",
       "      <td>0</td>\n",
       "      <td>0</td>\n",
       "      <td>0</td>\n",
       "      <td>0</td>\n",
       "      <td>0</td>\n",
       "      <td>0</td>\n",
       "      <td>0</td>\n",
       "      <td>0</td>\n",
       "      <td>0</td>\n",
       "      <td>0</td>\n",
       "      <td>0</td>\n",
       "      <td>0</td>\n",
       "      <td>0</td>\n",
       "      <td>0</td>\n",
       "      <td>0</td>\n",
       "      <td>0</td>\n",
       "      <td>0</td>\n",
       "      <td>0</td>\n",
       "      <td>0</td>\n",
       "      <td>0</td>\n",
       "      <td>0</td>\n",
       "      <td>0</td>\n",
       "      <td>0</td>\n",
       "      <td>0</td>\n",
       "      <td>0</td>\n",
       "      <td>0</td>\n",
       "      <td>0</td>\n",
       "      <td>1</td>\n",
       "      <td>0</td>\n",
       "      <td>0</td>\n",
       "      <td>0</td>\n",
       "      <td>0</td>\n",
       "      <td>1</td>\n",
       "      <td>0</td>\n",
       "      <td>0</td>\n",
       "    </tr>\n",
       "    <tr>\n",
       "      <th>3</th>\n",
       "      <td>2020</td>\n",
       "      <td>239.0</td>\n",
       "      <td>9491.0</td>\n",
       "      <td>14666</td>\n",
       "      <td>0</td>\n",
       "      <td>0</td>\n",
       "      <td>0</td>\n",
       "      <td>0</td>\n",
       "      <td>0</td>\n",
       "      <td>0</td>\n",
       "      <td>0</td>\n",
       "      <td>0</td>\n",
       "      <td>0</td>\n",
       "      <td>0</td>\n",
       "      <td>0</td>\n",
       "      <td>0</td>\n",
       "      <td>0</td>\n",
       "      <td>0</td>\n",
       "      <td>0</td>\n",
       "      <td>0</td>\n",
       "      <td>0</td>\n",
       "      <td>0</td>\n",
       "      <td>0</td>\n",
       "      <td>0</td>\n",
       "      <td>0</td>\n",
       "      <td>0</td>\n",
       "      <td>0</td>\n",
       "      <td>0</td>\n",
       "      <td>0</td>\n",
       "      <td>0</td>\n",
       "      <td>0</td>\n",
       "      <td>0</td>\n",
       "      <td>0</td>\n",
       "      <td>0</td>\n",
       "      <td>1</td>\n",
       "      <td>0</td>\n",
       "      <td>0</td>\n",
       "      <td>1</td>\n",
       "      <td>0</td>\n",
       "      <td>0</td>\n",
       "    </tr>\n",
       "    <tr>\n",
       "      <th>4</th>\n",
       "      <td>2020</td>\n",
       "      <td>10745.0</td>\n",
       "      <td>1881377.0</td>\n",
       "      <td>14500</td>\n",
       "      <td>0</td>\n",
       "      <td>0</td>\n",
       "      <td>0</td>\n",
       "      <td>1</td>\n",
       "      <td>0</td>\n",
       "      <td>0</td>\n",
       "      <td>0</td>\n",
       "      <td>0</td>\n",
       "      <td>0</td>\n",
       "      <td>0</td>\n",
       "      <td>0</td>\n",
       "      <td>0</td>\n",
       "      <td>0</td>\n",
       "      <td>0</td>\n",
       "      <td>0</td>\n",
       "      <td>0</td>\n",
       "      <td>0</td>\n",
       "      <td>0</td>\n",
       "      <td>0</td>\n",
       "      <td>0</td>\n",
       "      <td>0</td>\n",
       "      <td>0</td>\n",
       "      <td>0</td>\n",
       "      <td>0</td>\n",
       "      <td>0</td>\n",
       "      <td>0</td>\n",
       "      <td>0</td>\n",
       "      <td>0</td>\n",
       "      <td>0</td>\n",
       "      <td>0</td>\n",
       "      <td>0</td>\n",
       "      <td>0</td>\n",
       "      <td>0</td>\n",
       "      <td>1</td>\n",
       "      <td>0</td>\n",
       "      <td>0</td>\n",
       "    </tr>\n",
       "  </tbody>\n",
       "</table>\n",
       "</div>"
      ],
      "text/plain": [
       "   tahun  Luas panen (ha)  produksi (kuintal)  harga (/kg)  Daerah_Bangkalan  \\\n",
       "0   2020            259.0              8252.0        18000                 0   \n",
       "1   2020            467.0             20335.0        13500                 0   \n",
       "2   2020            411.0             10378.0        14500                 0   \n",
       "3   2020            239.0              9491.0        14666                 0   \n",
       "4   2020          10745.0           1881377.0        14500                 0   \n",
       "\n",
       "   Daerah_Banyuwangi  Daerah_Batu  Daerah_Blitar  Daerah_Bojonegoro  \\\n",
       "0                  0            0              0                  0   \n",
       "1                  0            0              0                  0   \n",
       "2                  0            0              0                  0   \n",
       "3                  0            0              0                  0   \n",
       "4                  0            0              1                  0   \n",
       "\n",
       "   Daerah_Bondowoso  Daerah_Gresik  Daerah_Jember  Daerah_Jombang  \\\n",
       "0                 0              0              0               0   \n",
       "1                 0              0              0               0   \n",
       "2                 0              0              0               0   \n",
       "3                 0              0              0               0   \n",
       "4                 0              0              0               0   \n",
       "\n",
       "   Daerah_Kediri  Daerah_Lamongan  Daerah_Lumajang  Daerah_Madiun  \\\n",
       "0              0                0                0              0   \n",
       "1              0                0                0              0   \n",
       "2              0                0                0              0   \n",
       "3              0                0                0              0   \n",
       "4              0                0                0              0   \n",
       "\n",
       "   Daerah_Magetan  Daerah_Malang  Daerah_Mojokerto  Daerah_Nganjuk  \\\n",
       "0               0              0                 0               0   \n",
       "1               0              0                 0               0   \n",
       "2               0              0                 0               0   \n",
       "3               0              0                 0               0   \n",
       "4               0              0                 0               0   \n",
       "\n",
       "   Daerah_Ngawi  Daerah_Pacitan  Daerah_Pamekasan  Daerah_Pasuruan  \\\n",
       "0             0               1                 0                0   \n",
       "1             0               0                 0                0   \n",
       "2             0               0                 0                0   \n",
       "3             0               0                 0                0   \n",
       "4             0               0                 0                0   \n",
       "\n",
       "   Daerah_Ponorogo  Daerah_Probolinggo  Daerah_Sampang  Daerah_Sidoarjo  \\\n",
       "0                0                   0               0                0   \n",
       "1                1                   0               0                0   \n",
       "2                0                   0               0                0   \n",
       "3                0                   0               0                0   \n",
       "4                0                   0               0                0   \n",
       "\n",
       "   Daerah_Situbondo  Daerah_Sumenep  Daerah_Surabaya  Daerah_Trenggalek  \\\n",
       "0                 0               0                0                  0   \n",
       "1                 0               0                0                  0   \n",
       "2                 0               0                0                  1   \n",
       "3                 0               0                0                  0   \n",
       "4                 0               0                0                  0   \n",
       "\n",
       "   Daerah_Tuban  Daerah_Tulungagung  tanaman_Bawang merah  \\\n",
       "0             0                   0                     0   \n",
       "1             0                   0                     0   \n",
       "2             0                   0                     0   \n",
       "3             0                   1                     0   \n",
       "4             0                   0                     0   \n",
       "\n",
       "   tanaman_Bawang putih  tanaman_Cabai Rawit  tanaman_Kentang  tanaman_Kubis  \n",
       "0                     0                    1                0              0  \n",
       "1                     0                    1                0              0  \n",
       "2                     0                    1                0              0  \n",
       "3                     0                    1                0              0  \n",
       "4                     0                    1                0              0  "
      ]
     },
     "execution_count": 17,
     "metadata": {},
     "output_type": "execute_result"
    }
   ],
   "source": [
    "data = pd.get_dummies(data, columns=['Daerah', 'tanaman'])\n",
    "data.head()"
   ]
  },
  {
   "cell_type": "code",
   "execution_count": 18,
   "metadata": {},
   "outputs": [],
   "source": [
    "X_num = data.loc[:, ['Luas panen (ha)', 'produksi (kuintal)']].values\n",
    "X_cat = data.iloc[:, 4:].values\n",
    "y = data.loc[:, 'harga (/kg)'].values"
   ]
  },
  {
   "cell_type": "code",
   "execution_count": 19,
   "metadata": {},
   "outputs": [],
   "source": [
    "X_transform = np.log(X_num)\n",
    "y_transform = np.log(y)"
   ]
  },
  {
   "cell_type": "code",
   "execution_count": 20,
   "metadata": {},
   "outputs": [],
   "source": [
    "X = np.concatenate([X_cat, X_transform], axis=1)"
   ]
  },
  {
   "cell_type": "code",
   "execution_count": 21,
   "metadata": {},
   "outputs": [
    {
     "data": {
      "image/png": "[encoded data removed]",
      "text/plain": [
       "<Figure size 1440x504 with 1 Axes>"
      ]
     },
     "metadata": {
      "needs_background": "light"
     },
     "output_type": "display_data"
    }
   ],
   "source": [
    "sns.histplot(x=y_transform, kde=True)\n",
    "plt.show()"
   ]
  },
  {
   "cell_type": "code",
   "execution_count": 22,
   "metadata": {},
   "outputs": [],
   "source": [
    "from sklearn.model_selection import train_test_split\n",
    "\n",
    "X_train, X_test, y_train, y_test = train_test_split(X, y_transform, test_size=.2, random_state=0)"
   ]
  },
  {
   "cell_type": "code",
   "execution_count": 23,
   "metadata": {
    "scrolled": true
   },
   "outputs": [
    {
     "name": "stdout",
     "output_type": "stream",
     "text": [
      "Total X_train: 372\n",
      "Total X_test: 93\n",
      "Total y_train: 372\n",
      "Total y_test: 93\n"
     ]
    }
   ],
   "source": [
    "print('Total X_train:', len(X_train))\n",
    "print('Total X_test:', len(X_test))\n",
    "print('Total y_train:', len(y_train))\n",
    "print('Total y_test:', len(y_test))"
   ]
  },
  {
   "cell_type": "code",
   "execution_count": 24,
   "metadata": {},
   "outputs": [
    {
     "name": "stdout",
     "output_type": "stream",
     "text": [
      "Model: \"sequential\"\n",
      "_________________________________________________________________\n",
      " Layer (type)                Output Shape              Param #   \n",
      "=================================================================\n",
      " dense (Dense)               (None, 128)               4992      \n",
      "                                                                 \n",
      " dense_1 (Dense)             (None, 32)                4128      \n",
      "                                                                 \n",
      " dense_2 (Dense)             (None, 1)                 33        \n",
      "                                                                 \n",
      "=================================================================\n",
      "Total params: 9,153\n",
      "Trainable params: 9,153\n",
      "Non-trainable params: 0\n",
      "_________________________________________________________________\n"
     ]
    }
   ],
   "source": [
    "from tensorflow.keras.optimizers import SGD\n",
    "\n",
    "model = Sequential([\n",
    "    Dense(128, input_shape=(X_train.shape[1],)),\n",
    "    Dense(32),\n",
    "    Dense(1)\n",
    "])\n",
    "model.compile(optimizer=SGD(clipnorm=.5), loss='mse')\n",
    "model.summary()"
   ]
  },
  {
   "cell_type": "code",
   "execution_count": 25,
   "metadata": {},
   "outputs": [
    {
     "name": "stdout",
     "output_type": "stream",
     "text": [
      "Epoch 1/200\n",
      "12/12 [==============================] - 1s 4ms/step - loss: 68.6568\n",
      "Epoch 2/200\n",
      "12/12 [==============================] - 0s 4ms/step - loss: 48.3605\n",
      "Epoch 3/200\n",
      "12/12 [==============================] - 0s 4ms/step - loss: 37.7918\n",
      "Epoch 4/200\n",
      "12/12 [==============================] - 0s 4ms/step - loss: 34.5957\n",
      "Epoch 5/200\n",
      "12/12 [==============================] - 0s 4ms/step - loss: 31.9660\n",
      "Epoch 6/200\n",
      "12/12 [==============================] - 0s 3ms/step - loss: 29.2666\n",
      "Epoch 7/200\n",
      "12/12 [==============================] - 0s 4ms/step - loss: 26.4060\n",
      "Epoch 8/200\n",
      "12/12 [==============================] - 0s 3ms/step - loss: 23.5197\n",
      "Epoch 9/200\n",
      "12/12 [==============================] - 0s 3ms/step - loss: 20.6120\n",
      "Epoch 10/200\n",
      "12/12 [==============================] - 0s 4ms/step - loss: 17.9314\n",
      "Epoch 11/200\n",
      "12/12 [==============================] - 0s 4ms/step - loss: 15.4073\n",
      "Epoch 12/200\n",
      "12/12 [==============================] - 0s 5ms/step - loss: 12.7734\n",
      "Epoch 13/200\n",
      "12/12 [==============================] - 0s 4ms/step - loss: 10.1852\n",
      "Epoch 14/200\n",
      "12/12 [==============================] - 0s 3ms/step - loss: 7.9348\n",
      "Epoch 15/200\n",
      "12/12 [==============================] - 0s 3ms/step - loss: 5.8595\n",
      "Epoch 16/200\n",
      "12/12 [==============================] - 0s 3ms/step - loss: 4.1857\n",
      "Epoch 17/200\n",
      "12/12 [==============================] - 0s 3ms/step - loss: 2.8056\n",
      "Epoch 18/200\n",
      "12/12 [==============================] - 0s 3ms/step - loss: 1.7983\n",
      "Epoch 19/200\n",
      "12/12 [==============================] - 0s 4ms/step - loss: 1.0979\n",
      "Epoch 20/200\n",
      "12/12 [==============================] - 0s 3ms/step - loss: 0.8762\n",
      "Epoch 21/200\n",
      "12/12 [==============================] - 0s 3ms/step - loss: 0.7952\n",
      "Epoch 22/200\n",
      "12/12 [==============================] - 0s 4ms/step - loss: 0.7411\n",
      "Epoch 23/200\n",
      "12/12 [==============================] - 0s 4ms/step - loss: 0.7365\n",
      "Epoch 24/200\n",
      "12/12 [==============================] - 0s 3ms/step - loss: 0.6917\n",
      "Epoch 25/200\n",
      "12/12 [==============================] - 0s 4ms/step - loss: 0.6975\n",
      "Epoch 26/200\n",
      "12/12 [==============================] - 0s 3ms/step - loss: 0.6260\n",
      "Epoch 27/200\n",
      "12/12 [==============================] - 0s 4ms/step - loss: 0.6293\n",
      "Epoch 28/200\n",
      "12/12 [==============================] - 0s 5ms/step - loss: 0.5945\n",
      "Epoch 29/200\n",
      "12/12 [==============================] - 0s 4ms/step - loss: 0.5714\n",
      "Epoch 30/200\n",
      "12/12 [==============================] - 0s 3ms/step - loss: 0.5085\n",
      "Epoch 31/200\n",
      "12/12 [==============================] - 0s 4ms/step - loss: 0.4991\n",
      "Epoch 32/200\n",
      "12/12 [==============================] - 0s 4ms/step - loss: 0.4643\n",
      "Epoch 33/200\n",
      "12/12 [==============================] - 0s 3ms/step - loss: 0.4296\n",
      "Epoch 34/200\n",
      "12/12 [==============================] - 0s 3ms/step - loss: 0.4428\n",
      "Epoch 35/200\n",
      "12/12 [==============================] - 0s 3ms/step - loss: 0.4044\n",
      "Epoch 36/200\n",
      "12/12 [==============================] - 0s 4ms/step - loss: 0.4079\n",
      "Epoch 37/200\n",
      "12/12 [==============================] - 0s 4ms/step - loss: 0.3959\n",
      "Epoch 38/200\n",
      "12/12 [==============================] - 0s 3ms/step - loss: 0.3669\n",
      "Epoch 39/200\n",
      "12/12 [==============================] - 0s 3ms/step - loss: 0.3476\n",
      "Epoch 40/200\n",
      "12/12 [==============================] - 0s 3ms/step - loss: 0.3433\n",
      "Epoch 41/200\n",
      "12/12 [==============================] - 0s 4ms/step - loss: 0.3431\n",
      "Epoch 42/200\n",
      "12/12 [==============================] - 0s 4ms/step - loss: 0.3016\n",
      "Epoch 43/200\n",
      "12/12 [==============================] - 0s 3ms/step - loss: 0.3192\n",
      "Epoch 44/200\n",
      "12/12 [==============================] - 0s 3ms/step - loss: 0.2889\n",
      "Epoch 45/200\n",
      "12/12 [==============================] - 0s 4ms/step - loss: 0.3077\n",
      "Epoch 46/200\n",
      "12/12 [==============================] - 0s 3ms/step - loss: 0.2839\n",
      "Epoch 47/200\n",
      "12/12 [==============================] - 0s 4ms/step - loss: 0.2627\n",
      "Epoch 48/200\n",
      "12/12 [==============================] - 0s 4ms/step - loss: 0.2674\n",
      "Epoch 49/200\n",
      "12/12 [==============================] - 0s 4ms/step - loss: 0.2658\n",
      "Epoch 50/200\n",
      "12/12 [==============================] - 0s 3ms/step - loss: 0.2497\n",
      "Epoch 51/200\n",
      "12/12 [==============================] - 0s 4ms/step - loss: 0.2424\n",
      "Epoch 52/200\n",
      "12/12 [==============================] - 0s 4ms/step - loss: 0.2195\n",
      "Epoch 53/200\n",
      "12/12 [==============================] - 0s 4ms/step - loss: 0.2255\n",
      "Epoch 54/200\n",
      "12/12 [==============================] - 0s 3ms/step - loss: 0.2159\n",
      "Epoch 55/200\n",
      "12/12 [==============================] - 0s 3ms/step - loss: 0.2211\n",
      "Epoch 56/200\n",
      "12/12 [==============================] - 0s 3ms/step - loss: 0.2067\n",
      "Epoch 57/200\n",
      "12/12 [==============================] - 0s 4ms/step - loss: 0.2097\n",
      "Epoch 58/200\n",
      "12/12 [==============================] - 0s 3ms/step - loss: 0.2163\n",
      "Epoch 59/200\n",
      "12/12 [==============================] - 0s 3ms/step - loss: 0.2021\n",
      "Epoch 60/200\n",
      "12/12 [==============================] - 0s 4ms/step - loss: 0.1920\n",
      "Epoch 61/200\n",
      "12/12 [==============================] - 0s 3ms/step - loss: 0.1883\n",
      "Epoch 62/200\n",
      "12/12 [==============================] - 0s 3ms/step - loss: 0.2245\n",
      "Epoch 63/200\n",
      "12/12 [==============================] - 0s 3ms/step - loss: 0.1951\n",
      "Epoch 64/200\n",
      "12/12 [==============================] - 0s 4ms/step - loss: 0.1694\n",
      "Epoch 65/200\n",
      "12/12 [==============================] - 0s 3ms/step - loss: 0.2078\n",
      "Epoch 66/200\n",
      "12/12 [==============================] - 0s 3ms/step - loss: 0.1864\n",
      "Epoch 67/200\n",
      "12/12 [==============================] - 0s 4ms/step - loss: 0.1779\n",
      "Epoch 68/200\n",
      "12/12 [==============================] - 0s 3ms/step - loss: 0.1684\n",
      "Epoch 69/200\n",
      "12/12 [==============================] - 0s 4ms/step - loss: 0.1730\n",
      "Epoch 70/200\n",
      "12/12 [==============================] - 0s 3ms/step - loss: 0.1794\n",
      "Epoch 71/200\n",
      "12/12 [==============================] - 0s 3ms/step - loss: 0.1629\n",
      "Epoch 72/200\n",
      "12/12 [==============================] - 0s 4ms/step - loss: 0.1667\n",
      "Epoch 73/200\n",
      "12/12 [==============================] - 0s 3ms/step - loss: 0.1604\n",
      "Epoch 74/200\n",
      "12/12 [==============================] - 0s 3ms/step - loss: 0.1600\n",
      "Epoch 75/200\n",
      "12/12 [==============================] - 0s 3ms/step - loss: 0.1562\n",
      "Epoch 76/200\n",
      "12/12 [==============================] - 0s 3ms/step - loss: 0.1482\n",
      "Epoch 77/200\n",
      "12/12 [==============================] - 0s 4ms/step - loss: 0.1470\n",
      "Epoch 78/200\n",
      "12/12 [==============================] - 0s 4ms/step - loss: 0.1604\n",
      "Epoch 79/200\n",
      "12/12 [==============================] - 0s 3ms/step - loss: 0.1544\n",
      "Epoch 80/200\n",
      "12/12 [==============================] - 0s 5ms/step - loss: 0.1538\n",
      "Epoch 81/200\n",
      "12/12 [==============================] - 0s 4ms/step - loss: 0.1693\n",
      "Epoch 82/200\n",
      "12/12 [==============================] - 0s 4ms/step - loss: 0.1529\n",
      "Epoch 83/200\n",
      "12/12 [==============================] - 0s 3ms/step - loss: 0.1507\n",
      "Epoch 84/200\n",
      "12/12 [==============================] - 0s 3ms/step - loss: 0.1507\n",
      "Epoch 85/200\n",
      "12/12 [==============================] - 0s 3ms/step - loss: 0.1591\n",
      "Epoch 86/200\n",
      "12/12 [==============================] - 0s 3ms/step - loss: 0.1436\n",
      "Epoch 87/200\n",
      "12/12 [==============================] - 0s 3ms/step - loss: 0.1342\n",
      "Epoch 88/200\n",
      "12/12 [==============================] - 0s 3ms/step - loss: 0.1530\n",
      "Epoch 89/200\n",
      "12/12 [==============================] - 0s 3ms/step - loss: 0.1359\n",
      "Epoch 90/200\n",
      "12/12 [==============================] - 0s 3ms/step - loss: 0.1406\n",
      "Epoch 91/200\n",
      "12/12 [==============================] - 0s 4ms/step - loss: 0.1404\n",
      "Epoch 92/200\n",
      "12/12 [==============================] - 0s 3ms/step - loss: 0.1551\n",
      "Epoch 93/200\n",
      "12/12 [==============================] - 0s 4ms/step - loss: 0.1488\n",
      "Epoch 94/200\n",
      "12/12 [==============================] - 0s 3ms/step - loss: 0.1272\n",
      "Epoch 95/200\n",
      "12/12 [==============================] - 0s 3ms/step - loss: 0.1383\n",
      "Epoch 96/200\n",
      "12/12 [==============================] - 0s 3ms/step - loss: 0.1337\n",
      "Epoch 97/200\n",
      "12/12 [==============================] - 0s 3ms/step - loss: 0.1377\n",
      "Epoch 98/200\n",
      "12/12 [==============================] - 0s 3ms/step - loss: 0.1248\n",
      "Epoch 99/200\n",
      "12/12 [==============================] - 0s 4ms/step - loss: 0.1514\n",
      "Epoch 100/200\n",
      "12/12 [==============================] - 0s 3ms/step - loss: 0.1309\n",
      "Epoch 101/200\n",
      "12/12 [==============================] - 0s 3ms/step - loss: 0.1326\n",
      "Epoch 102/200\n"
     ]
    },
    {
     "name": "stdout",
     "output_type": "stream",
     "text": [
      "12/12 [==============================] - 0s 4ms/step - loss: 0.1356\n",
      "Epoch 103/200\n",
      "12/12 [==============================] - 0s 4ms/step - loss: 0.1446\n",
      "Epoch 104/200\n",
      "12/12 [==============================] - 0s 3ms/step - loss: 0.1355\n",
      "Epoch 105/200\n",
      "12/12 [==============================] - 0s 4ms/step - loss: 0.1304\n",
      "Epoch 106/200\n",
      "12/12 [==============================] - 0s 3ms/step - loss: 0.1333\n",
      "Epoch 107/200\n",
      "12/12 [==============================] - 0s 3ms/step - loss: 0.1398\n",
      "Epoch 108/200\n",
      "12/12 [==============================] - 0s 3ms/step - loss: 0.1315\n",
      "Epoch 109/200\n",
      "12/12 [==============================] - 0s 3ms/step - loss: 0.1261\n",
      "Epoch 110/200\n",
      "12/12 [==============================] - 0s 3ms/step - loss: 0.1361\n",
      "Epoch 111/200\n",
      "12/12 [==============================] - 0s 3ms/step - loss: 0.1275\n",
      "Epoch 112/200\n",
      "12/12 [==============================] - 0s 4ms/step - loss: 0.1231\n",
      "Epoch 113/200\n",
      "12/12 [==============================] - 0s 4ms/step - loss: 0.1295\n",
      "Epoch 114/200\n",
      "12/12 [==============================] - 0s 3ms/step - loss: 0.1243\n",
      "Epoch 115/200\n",
      "12/12 [==============================] - 0s 3ms/step - loss: 0.1278\n",
      "Epoch 116/200\n",
      "12/12 [==============================] - 0s 2ms/step - loss: 0.1162\n",
      "Epoch 117/200\n",
      "12/12 [==============================] - 0s 3ms/step - loss: 0.1179\n",
      "Epoch 118/200\n",
      "12/12 [==============================] - 0s 3ms/step - loss: 0.1285\n",
      "Epoch 119/200\n",
      "12/12 [==============================] - 0s 3ms/step - loss: 0.1170\n",
      "Epoch 120/200\n",
      "12/12 [==============================] - 0s 4ms/step - loss: 0.1073\n",
      "Epoch 121/200\n",
      "12/12 [==============================] - 0s 3ms/step - loss: 0.1243\n",
      "Epoch 122/200\n",
      "12/12 [==============================] - 0s 3ms/step - loss: 0.1280\n",
      "Epoch 123/200\n",
      "12/12 [==============================] - 0s 3ms/step - loss: 0.1231\n",
      "Epoch 124/200\n",
      "12/12 [==============================] - 0s 3ms/step - loss: 0.1242\n",
      "Epoch 125/200\n",
      "12/12 [==============================] - 0s 3ms/step - loss: 0.1193\n",
      "Epoch 126/200\n",
      "12/12 [==============================] - 0s 3ms/step - loss: 0.1161\n",
      "Epoch 127/200\n",
      "12/12 [==============================] - 0s 3ms/step - loss: 0.1175\n",
      "Epoch 128/200\n",
      "12/12 [==============================] - 0s 3ms/step - loss: 0.1250\n",
      "Epoch 129/200\n",
      "12/12 [==============================] - 0s 3ms/step - loss: 0.1244\n",
      "Epoch 130/200\n",
      "12/12 [==============================] - 0s 3ms/step - loss: 0.1357\n",
      "Epoch 131/200\n",
      "12/12 [==============================] - 0s 3ms/step - loss: 0.1281\n",
      "Epoch 132/200\n",
      "12/12 [==============================] - 0s 4ms/step - loss: 0.1119\n",
      "Epoch 133/200\n",
      "12/12 [==============================] - 0s 3ms/step - loss: 0.1033\n",
      "Epoch 134/200\n",
      "12/12 [==============================] - 0s 3ms/step - loss: 0.1160\n",
      "Epoch 135/200\n",
      "12/12 [==============================] - 0s 4ms/step - loss: 0.1080\n",
      "Epoch 136/200\n",
      "12/12 [==============================] - 0s 3ms/step - loss: 0.1222\n",
      "Epoch 137/200\n",
      "12/12 [==============================] - 0s 3ms/step - loss: 0.1269\n",
      "Epoch 138/200\n",
      "12/12 [==============================] - 0s 3ms/step - loss: 0.1142\n",
      "Epoch 139/200\n",
      "12/12 [==============================] - 0s 3ms/step - loss: 0.1239\n",
      "Epoch 140/200\n",
      "12/12 [==============================] - 0s 3ms/step - loss: 0.1336\n",
      "Epoch 141/200\n",
      "12/12 [==============================] - 0s 4ms/step - loss: 0.1153\n",
      "Epoch 142/200\n",
      "12/12 [==============================] - 0s 3ms/step - loss: 0.1218\n",
      "Epoch 143/200\n",
      "12/12 [==============================] - 0s 3ms/step - loss: 0.1208\n",
      "Epoch 144/200\n",
      "12/12 [==============================] - 0s 3ms/step - loss: 0.1171\n",
      "Epoch 145/200\n",
      "12/12 [==============================] - 0s 3ms/step - loss: 0.1074\n",
      "Epoch 146/200\n",
      "12/12 [==============================] - 0s 3ms/step - loss: 0.1231\n",
      "Epoch 147/200\n",
      "12/12 [==============================] - 0s 3ms/step - loss: 0.1190\n",
      "Epoch 148/200\n",
      "12/12 [==============================] - 0s 3ms/step - loss: 0.1322\n",
      "Epoch 149/200\n",
      "12/12 [==============================] - 0s 3ms/step - loss: 0.1136\n",
      "Epoch 150/200\n",
      "12/12 [==============================] - 0s 3ms/step - loss: 0.1216\n",
      "Epoch 151/200\n",
      "12/12 [==============================] - 0s 3ms/step - loss: 0.1089\n",
      "Epoch 152/200\n",
      "12/12 [==============================] - 0s 3ms/step - loss: 0.1210\n",
      "Epoch 153/200\n",
      "12/12 [==============================] - 0s 3ms/step - loss: 0.1129\n",
      "Epoch 154/200\n",
      "12/12 [==============================] - 0s 4ms/step - loss: 0.1110\n",
      "Epoch 155/200\n",
      "12/12 [==============================] - 0s 3ms/step - loss: 0.1119\n",
      "Epoch 156/200\n",
      "12/12 [==============================] - 0s 4ms/step - loss: 0.1189\n",
      "Epoch 157/200\n",
      "12/12 [==============================] - 0s 3ms/step - loss: 0.1162\n",
      "Epoch 158/200\n",
      "12/12 [==============================] - 0s 4ms/step - loss: 0.1144\n",
      "Epoch 159/200\n",
      "12/12 [==============================] - 0s 3ms/step - loss: 0.1055\n",
      "Epoch 160/200\n",
      "12/12 [==============================] - 0s 3ms/step - loss: 0.1099\n",
      "Epoch 161/200\n",
      "12/12 [==============================] - 0s 3ms/step - loss: 0.1131\n",
      "Epoch 162/200\n",
      "12/12 [==============================] - 0s 3ms/step - loss: 0.1188\n",
      "Epoch 163/200\n",
      "12/12 [==============================] - 0s 4ms/step - loss: 0.1082\n",
      "Epoch 164/200\n",
      "12/12 [==============================] - 0s 3ms/step - loss: 0.1180\n",
      "Epoch 165/200\n",
      "12/12 [==============================] - 0s 4ms/step - loss: 0.1181\n",
      "Epoch 166/200\n",
      "12/12 [==============================] - 0s 3ms/step - loss: 0.1302\n",
      "Epoch 167/200\n",
      "12/12 [==============================] - 0s 4ms/step - loss: 0.1113\n",
      "Epoch 168/200\n",
      "12/12 [==============================] - 0s 3ms/step - loss: 0.1009\n",
      "Epoch 169/200\n",
      "12/12 [==============================] - 0s 4ms/step - loss: 0.1194\n",
      "Epoch 170/200\n",
      "12/12 [==============================] - 0s 3ms/step - loss: 0.1199\n",
      "Epoch 171/200\n",
      "12/12 [==============================] - 0s 4ms/step - loss: 0.1056\n",
      "Epoch 172/200\n",
      "12/12 [==============================] - 0s 3ms/step - loss: 0.1054\n",
      "Epoch 173/200\n",
      "12/12 [==============================] - 0s 4ms/step - loss: 0.1105\n",
      "Epoch 174/200\n",
      "12/12 [==============================] - 0s 3ms/step - loss: 0.1080\n",
      "Epoch 175/200\n",
      "12/12 [==============================] - 0s 4ms/step - loss: 0.1147\n",
      "Epoch 176/200\n",
      "12/12 [==============================] - 0s 3ms/step - loss: 0.0981\n",
      "Epoch 177/200\n",
      "12/12 [==============================] - 0s 5ms/step - loss: 0.1161\n",
      "Epoch 178/200\n",
      "12/12 [==============================] - 0s 4ms/step - loss: 0.1166\n",
      "Epoch 179/200\n",
      "12/12 [==============================] - 0s 3ms/step - loss: 0.1086\n",
      "Epoch 180/200\n",
      "12/12 [==============================] - 0s 3ms/step - loss: 0.1107\n",
      "Epoch 181/200\n",
      "12/12 [==============================] - 0s 3ms/step - loss: 0.1101\n",
      "Epoch 182/200\n",
      "12/12 [==============================] - 0s 4ms/step - loss: 0.1171\n",
      "Epoch 183/200\n",
      "12/12 [==============================] - 0s 3ms/step - loss: 0.1126\n",
      "Epoch 184/200\n",
      "12/12 [==============================] - 0s 4ms/step - loss: 0.1197\n",
      "Epoch 185/200\n",
      "12/12 [==============================] - 0s 3ms/step - loss: 0.0987\n",
      "Epoch 186/200\n",
      "12/12 [==============================] - 0s 3ms/step - loss: 0.1071\n",
      "Epoch 187/200\n",
      "12/12 [==============================] - 0s 3ms/step - loss: 0.1137\n",
      "Epoch 188/200\n",
      "12/12 [==============================] - 0s 3ms/step - loss: 0.1109\n",
      "Epoch 189/200\n",
      "12/12 [==============================] - 0s 4ms/step - loss: 0.1083\n",
      "Epoch 190/200\n",
      "12/12 [==============================] - 0s 4ms/step - loss: 0.1087\n",
      "Epoch 191/200\n",
      "12/12 [==============================] - 0s 3ms/step - loss: 0.1044\n",
      "Epoch 192/200\n",
      "12/12 [==============================] - 0s 4ms/step - loss: 0.1182\n",
      "Epoch 193/200\n",
      "12/12 [==============================] - 0s 3ms/step - loss: 0.1091\n",
      "Epoch 194/200\n",
      "12/12 [==============================] - 0s 3ms/step - loss: 0.1145\n",
      "Epoch 195/200\n",
      "12/12 [==============================] - 0s 3ms/step - loss: 0.1126\n",
      "Epoch 196/200\n",
      "12/12 [==============================] - 0s 3ms/step - loss: 0.1082\n",
      "Epoch 197/200\n",
      "12/12 [==============================] - 0s 3ms/step - loss: 0.1120\n",
      "Epoch 198/200\n",
      "12/12 [==============================] - 0s 3ms/step - loss: 0.1073\n",
      "Epoch 199/200\n",
      "12/12 [==============================] - 0s 3ms/step - loss: 0.1078\n",
      "Epoch 200/200\n",
      "12/12 [==============================] - 0s 3ms/step - loss: 0.1062\n"
     ]
    }
   ],
   "source": [
    "history = model.fit(X_train, y_train, epochs=200)"
   ]
  },
  {
   "cell_type": "code",
   "execution_count": 26,
   "metadata": {},
   "outputs": [
    {
     "data": {
      "image/png": "[encoded data removed]",
      "text/plain": [
       "<Figure size 1440x504 with 1 Axes>"
      ]
     },
     "metadata": {
      "needs_background": "light"
     },
     "output_type": "display_data"
    }
   ],
   "source": [
    "#show model loss\n",
    "plt.plot(history.history['loss'])\n",
    "plt.title('Model loss')\n",
    "plt.ylabel('Loss')\n",
    "plt.xlabel('Epoch')\n",
    "plt.legend(['Train'], loc='upper left')\n",
    "plt.show()"
   ]
  },
  {
   "cell_type": "code",
   "execution_count": 27,
   "metadata": {},
   "outputs": [
    {
     "name": "stdout",
     "output_type": "stream",
     "text": [
      "3/3 [==============================] - 0s 5ms/step\n",
      "MSE: 108370937.73186265\n"
     ]
    }
   ],
   "source": [
    "from sklearn.metrics import mean_squared_error\n",
    "\n",
    "yhat = model.predict(X_test)\n",
    "error = mean_squared_error(np.exp(y_test), np.exp(yhat))\n",
    "print('MSE:', error)"
   ]
  },
  {
   "cell_type": "code",
   "execution_count": 28,
   "metadata": {},
   "outputs": [
    {
     "data": {
      "text/html": [
       "<div>\n",
       "<style scoped>\n",
       "    .dataframe tbody tr th:only-of-type {\n",
       "        vertical-align: middle;\n",
       "    }\n",
       "\n",
       "    .dataframe tbody tr th {\n",
       "        vertical-align: top;\n",
       "    }\n",
       "\n",
       "    .dataframe thead th {\n",
       "        text-align: right;\n",
       "    }\n",
       "</style>\n",
       "<table border=\"1\" class=\"dataframe\">\n",
       "  <thead>\n",
       "    <tr style=\"text-align: right;\">\n",
       "      <th></th>\n",
       "      <th>y_test</th>\n",
       "      <th>yhat</th>\n",
       "    </tr>\n",
       "  </thead>\n",
       "  <tbody>\n",
       "    <tr>\n",
       "      <th>0</th>\n",
       "      <td>8333.0</td>\n",
       "      <td>8493.221680</td>\n",
       "    </tr>\n",
       "    <tr>\n",
       "      <th>1</th>\n",
       "      <td>13375.0</td>\n",
       "      <td>15399.567383</td>\n",
       "    </tr>\n",
       "    <tr>\n",
       "      <th>2</th>\n",
       "      <td>26750.0</td>\n",
       "      <td>38218.246094</td>\n",
       "    </tr>\n",
       "    <tr>\n",
       "      <th>3</th>\n",
       "      <td>72500.0</td>\n",
       "      <td>37800.847656</td>\n",
       "    </tr>\n",
       "    <tr>\n",
       "      <th>4</th>\n",
       "      <td>6900.0</td>\n",
       "      <td>7934.860840</td>\n",
       "    </tr>\n",
       "    <tr>\n",
       "      <th>5</th>\n",
       "      <td>9000.0</td>\n",
       "      <td>39590.625000</td>\n",
       "    </tr>\n",
       "    <tr>\n",
       "      <th>6</th>\n",
       "      <td>24750.0</td>\n",
       "      <td>25449.978516</td>\n",
       "    </tr>\n",
       "    <tr>\n",
       "      <th>7</th>\n",
       "      <td>32000.0</td>\n",
       "      <td>21443.460938</td>\n",
       "    </tr>\n",
       "    <tr>\n",
       "      <th>8</th>\n",
       "      <td>20000.0</td>\n",
       "      <td>21547.353516</td>\n",
       "    </tr>\n",
       "    <tr>\n",
       "      <th>9</th>\n",
       "      <td>23500.0</td>\n",
       "      <td>22384.324219</td>\n",
       "    </tr>\n",
       "  </tbody>\n",
       "</table>\n",
       "</div>"
      ],
      "text/plain": [
       "    y_test          yhat\n",
       "0   8333.0   8493.221680\n",
       "1  13375.0  15399.567383\n",
       "2  26750.0  38218.246094\n",
       "3  72500.0  37800.847656\n",
       "4   6900.0   7934.860840\n",
       "5   9000.0  39590.625000\n",
       "6  24750.0  25449.978516\n",
       "7  32000.0  21443.460938\n",
       "8  20000.0  21547.353516\n",
       "9  23500.0  22384.324219"
      ]
     },
     "execution_count": 28,
     "metadata": {},
     "output_type": "execute_result"
    }
   ],
   "source": [
    "yhat_df = pd.DataFrame({\n",
    "    'y_test': np.exp(y_test),\n",
    "    'yhat': np.exp(yhat[:, 0])\n",
    "})\n",
    "\n",
    "yhat_df.head(10)"
   ]
  },
  {
   "cell_type": "code",
   "execution_count": 29,
   "metadata": {
    "id": "iWvGXFZjO0yu"
   },
   "outputs": [],
   "source": [
    "# # Daftar kategori unik dalam kolom \"tanaman\" dan \"Daerah\"\n",
    "# unique_tanaman = data['tanaman'].unique()\n",
    "# unique_daerah = data['Daerah'].unique()\n",
    "\n",
    "# # Membuat kamus pemetaan kategori ke nilai numerik\n",
    "# tanaman_mapping = {tanaman: i for i, tanaman in enumerate(unique_tanaman)}\n",
    "# daerah_mapping = {daerah: i for i, daerah in enumerate(unique_daerah)}\n",
    "\n",
    "# # Mengganti nilai kategori dengan nilai numerik menggunakan metode replace()\n",
    "# data['tanaman'] = data['tanaman'].replace(tanaman_mapping)\n",
    "# data['Daerah'] = data['Daerah'].replace(daerah_mapping)"
   ]
  },
  {
   "cell_type": "code",
   "execution_count": 30,
   "metadata": {
    "colab": {
     "base_uri": "https://localhost:8080/"
    },
    "id": "0bc994hiT9RG",
    "outputId": "73e2a7e5-9e99-4b94-9978-cfe68e8d4d90"
   },
   "outputs": [],
   "source": [
    "# print(data['tanaman'].unique())"
   ]
  },
  {
   "cell_type": "code",
   "execution_count": 31,
   "metadata": {
    "colab": {
     "base_uri": "https://localhost:8080/",
     "height": 728
    },
    "id": "pfKCWbVBQX8t",
    "outputId": "d15e2419-d2f8-4a60-b1b8-d08c21b69f6f"
   },
   "outputs": [],
   "source": [
    "# # Visualisasi kolom 'harga (/kg)' untuk setiap jenis tanaman\n",
    "# plt.figure(figsize=(16, 8))\n",
    "# plt.title('Harga Tiap Tanaman')\n",
    "\n",
    "# tanaman_mapping = {0: 'Cabai Rawit', 1: 'Bawang Merah', 2: 'Bawang Putih', 3: 'Kentang', 4: 'Kubis'}\n",
    "\n",
    "# for tanaman_id, tanaman_label in tanaman_mapping.items():\n",
    "#     filtered_data = data[data['tanaman'] == tanaman_id]\n",
    "#     plt.plot(filtered_data['harga (/kg)'], marker='o', label=tanaman_label)\n",
    "\n",
    "# plt.xlabel('Indeks Data', fontsize=18)\n",
    "# plt.ylabel('Harga (/kg)', fontsize=18)\n",
    "# plt.legend()\n",
    "# plt.show()"
   ]
  },
  {
   "cell_type": "code",
   "execution_count": 32,
   "metadata": {
    "colab": {
     "base_uri": "https://localhost:8080/"
    },
    "id": "NrX3ZZzzlaCR",
    "outputId": "dc1bc69a-243f-4223-b0e6-1c8cf6a28f0a"
   },
   "outputs": [],
   "source": [
    "# # Membuat dataframe baru dengan kolom yang berpengaruh\n",
    "# relevant_columns = ['Daerah', 'tahun', 'tanaman', 'Luas panen (ha)', 'produksi (kuintal)', 'harga (/kg)']\n",
    "# data = data[relevant_columns]\n",
    "\n",
    "# # Mengambil kolom 'daerah' dan 'tanaman' sebagai kategori (tidak ikut scaling dan normalisasi)\n",
    "# kategori_data = data[['Daerah', 'tahun', 'tanaman']]\n",
    "\n",
    "# # Mengambil kolom-kolom numerik untuk scaling dan normalisasi\n",
    "# numeric_data = data.drop(['Daerah', 'tahun', 'tanaman'], axis=1)\n",
    "\n",
    "# # Scaling dan normalisasi\n",
    "# scaler = MinMaxScaler()\n",
    "# scaled_numeric_data = scaler.fit_transform(numeric_data)\n",
    "\n",
    "# # Menggabungkan kembali kolom-kolom yang telah diubah dan yang tidak ikut diubah\n",
    "# scaled_data = pd.DataFrame(scaled_numeric_data, columns=numeric_data.columns)\n",
    "# scaled_dataset = pd.concat([kategori_data, scaled_data], axis=1)\n",
    "\n",
    "# # hasil scaling dan normalisasi\n",
    "# print(\"Data setelah scaling dan normalisasi:\")\n",
    "# print(scaled_dataset)\n"
   ]
  },
  {
   "cell_type": "code",
   "execution_count": 33,
   "metadata": {
    "colab": {
     "base_uri": "https://localhost:8080/"
    },
    "id": "H2Vin1W7Q494",
    "outputId": "e82a4944-5bab-4b19-a031-4c08e41eb95e"
   },
   "outputs": [],
   "source": [
    "# # Mengonversi data ke dalam array numpy\n",
    "# X = scaled_dataset[['Daerah', 'tahun', 'tanaman', 'Luas panen (ha)', 'produksi (kuintal)']].values\n",
    "# y = scaled_dataset['harga (/kg)'].values\n",
    "\n",
    "# # Menghitung jumlah baris untuk melatih model (80%)\n",
    "# training_data_len = math.ceil(len(scaled_dataset) * 0.8)\n",
    "\n",
    "# # mengitung jumlah baris untuk melatih model (20%)\n",
    "# test_data_len = math.ceil(len(scaled_dataset) * 0.2)\n",
    "\n",
    "# X_train = X[:training_data_len]\n",
    "# y_train = y[:training_data_len]\n",
    "\n",
    "# X_test = X[training_data_len:]\n",
    "# y_test = y[training_data_len:]\n",
    "\n",
    "# print(\"Jumlah data latih:\", training_data_len)"
   ]
  },
  {
   "cell_type": "code",
   "execution_count": 34,
   "metadata": {
    "colab": {
     "base_uri": "https://localhost:8080/"
    },
    "id": "MBNySg2UdwYF",
    "outputId": "43afb99c-4d04-49e3-9443-aec322ac2c97"
   },
   "outputs": [],
   "source": [
    "# # Periksa nama kolom yang tersedia dalam DataFrame data\n",
    "# print(data.columns)"
   ]
  },
  {
   "cell_type": "code",
   "execution_count": 35,
   "metadata": {
    "colab": {
     "base_uri": "https://localhost:8080/"
    },
    "id": "qz6_-DbIVpJd",
    "outputId": "a0f42e18-62d3-43d4-b856-048babf8401c"
   },
   "outputs": [],
   "source": [
    "# # Create training dataset using sliding window approach\n",
    "# window_size = 60\n",
    "# x_train = []\n",
    "# y_train = []\n",
    "# for i in range(window_size, len(X_train)):\n",
    "#     x_train.append(X_train[i-window_size:i])\n",
    "#     y_train.append(y[i])  # Menggunakan y sebagai variabel target\n",
    "\n",
    "# # Convert to numpy arrays\n",
    "# x_train = np.array(x_train)\n",
    "# y_train = np.array(y_train)\n",
    "\n",
    "# # Reshape y_train to have the same number of dimensions as y_test\n",
    "# y_train = np.reshape(y_train, (y_train.shape[0], 1))\n",
    "\n",
    "# # Print shape of the training dataset\n",
    "# print(\"Shape of x_train:\", x_train.shape)\n",
    "# print(\"Shape of y_train:\", y_train.shape)\n",
    "# x_train[0][0]\n"
   ]
  },
  {
   "cell_type": "code",
   "execution_count": 36,
   "metadata": {
    "colab": {
     "base_uri": "https://localhost:8080/"
    },
    "id": "Hyp7tn-vq7ne",
    "outputId": "41297218-4769-40e7-c78a-32b6256ac72c"
   },
   "outputs": [],
   "source": [
    "# x_train = np.array(x_train)\n",
    "# print(x_train.shape)"
   ]
  },
  {
   "cell_type": "code",
   "execution_count": 37,
   "metadata": {
    "id": "tJ1fZgfNpbjP"
   },
   "outputs": [],
   "source": [
    "# # Membuat model MLP\n",
    "# model = Sequential()\n",
    "# model.add(Dense(64, activation='relu', input_shape=(x_train.shape[1], x_train.shape[2])))\n",
    "# model.add(Dense(32, activation='relu'))\n",
    "# model.add(Dense(1))"
   ]
  },
  {
   "cell_type": "code",
   "execution_count": 38,
   "metadata": {
    "colab": {
     "base_uri": "https://localhost:8080/"
    },
    "id": "c2MxVHAqpeI4",
    "outputId": "fd5f00c4-66ae-499b-d364-bbf3d9ea03f4"
   },
   "outputs": [],
   "source": [
    "# # Compile dan latih model\n",
    "# from sklearn import metrics\n",
    "# model.compile(optimizer='adam', loss='mean_squared_error', metrics=['accuracy'])\n",
    "# history = model.fit(x_train, y_train, epochs=100, batch_size=32, verbose=1)\n"
   ]
  },
  {
   "cell_type": "code",
   "execution_count": 39,
   "metadata": {
    "colab": {
     "base_uri": "https://localhost:8080/",
     "height": 472
    },
    "id": "MxDyY67tEFhA",
    "outputId": "1e72ea3d-8ce8-465b-c6eb-7ee143527323"
   },
   "outputs": [],
   "source": [
    "# #show model loss\n",
    "# plt.plot(history.history['loss'])\n",
    "# plt.title('Model loss')\n",
    "# plt.ylabel('Loss')\n",
    "# plt.xlabel('Epoch')\n",
    "# plt.legend(['Train', 'Test'], loc='upper left')\n",
    "# plt.show()"
   ]
  },
  {
   "cell_type": "code",
   "execution_count": 40,
   "metadata": {
    "colab": {
     "base_uri": "https://localhost:8080/"
    },
    "id": "YRtOfCmEp8NL",
    "outputId": "7ac0796d-acf1-4437-98bf-2941c383f50d"
   },
   "outputs": [],
   "source": [
    "# # Membuat x_test dan y_test_actual\n",
    "# window_size = 60\n",
    "# x_test = []\n",
    "# y_test_actual = []\n",
    "# for i in range(window_size, len(X_test)):\n",
    "#     x_test.append(X_test[i-window_size:i, :5])  # Menggunakan hanya 5 kolom fitur\n",
    "#  # Menggunakan semua kolom fitur\n",
    "#     y_test_actual.append(y_test[i])\n",
    "\n",
    "# # x_test.shape\n",
    "# # y_test_actual\n",
    "# # Mengonversi data menjadi array numpy\n",
    "# x_test = np.array(x_test)\n",
    "# x_test.shape\n",
    "# # y_test_actual = np.array(y_test_actual)\n",
    "# # x_test\n",
    "\n",
    "# # # Mengubah dimensi x_test\n",
    "# # x_test = np.reshape(x_test, (x_test.shape[0], x_test.shape[1]))  # Menggunakan 5 kolom fitur\n",
    "\n",
    "# # # Menggunakan model untuk melakukan prediksi pada data uji\n",
    "# test_predictions = model.predict(x_test)\n",
    "# test_predictions[0][0][0]\n",
    "\n",
    "# # # Mengembalikan skala asli pada data prediksi\n",
    "# # test_predictions = scaler.inverse_transform(test_predictions)\n",
    "\n",
    "# # # Mengembalikan skala asli pada data aktual\n",
    "# # y_test_actual_scaled = scaler.inverse_transform(y_test_actual.reshape(-1, 1))\n",
    "\n",
    "# # # Menghitung RMSE\n",
    "# # test_rmse = np.sqrt(np.mean(np.square(test_predictions - y_test_actual_scaled)))\n",
    "# # print(\"Testing RMSE:\", test_rmse)\n"
   ]
  }
 ],
 "metadata": {
  "colab": {
   "provenance": []
  },
  "kernelspec": {
   "display_name": "Python 3 (ipykernel)",
   "language": "python",
   "name": "python3"
  },
  "language_info": {
   "codemirror_mode": {
    "name": "ipython",
    "version": 3
   },
   "file_extension": ".py",
   "mimetype": "text/x-python",
   "name": "python",
   "nbconvert_exporter": "python",
   "pygments_lexer": "ipython3",
   "version": "3.9.12"
  }
 },
 "nbformat": 4,
 "nbformat_minor": 1
}
