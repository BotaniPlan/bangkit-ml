{
  "nbformat": 4,
  "nbformat_minor": 0,
  "metadata": {
    "colab": {
      "provenance": []
    },
    "kernelspec": {
      "name": "python3",
      "display_name": "Python 3"
    },
    "language_info": {
      "name": "python"
    }
  },
  "cells": [
    {
      "cell_type": "code",
      "execution_count": 3,
      "metadata": {
        "id": "RdXmqyjJHhVO"
      },
      "outputs": [],
      "source": [
        "import pandas as pd\n",
        "import numpy as np\n",
        "import matplotlib.pyplot as plt\n",
        "from sklearn.preprocessing import MinMaxScaler\n",
        "from tensorflow.keras.models import Sequential\n",
        "from sklearn.metrics import mean_absolute_error\n",
        "from tensorflow.keras.layers import Dense,Dropout\n",
        "from keras.layers import Flatten\n",
        "import math"
      ]
    },
    {
      "cell_type": "code",
      "source": [
        "data= pd.read_excel('ML_predicion_harga.xlsx')\n",
        "print(data.head())"
      ],
      "metadata": {
        "colab": {
          "base_uri": "https://localhost:8080/"
        },
        "id": "MwhK54zEImwL",
        "outputId": "e765b393-36aa-424b-e987-0c16c13be101"
      },
      "execution_count": 4,
      "outputs": [
        {
          "output_type": "stream",
          "name": "stdout",
          "text": [
            "        Daerah  tahun      tanaman  Luas panen (ha)  produksi (kuintal)  \\\n",
            "0      Pacitan   2020  Cabai Rawit            259.0              8252.0   \n",
            "1     Ponorogo   2020  Cabai Rawit            467.0             20335.0   \n",
            "2   Trenggalek   2020  Cabai Rawit            411.0             10378.0   \n",
            "3  Tulungagung   2020  Cabai Rawit            239.0              9491.0   \n",
            "4       Blitar   2020  Cabai Rawit          10745.0           1881377.0   \n",
            "\n",
            "   harga (/kg)  \n",
            "0        18000  \n",
            "1        13500  \n",
            "2        14500  \n",
            "3        14666  \n",
            "4        14500  \n"
          ]
        }
      ]
    },
    {
      "cell_type": "code",
      "source": [
        "data.head()"
      ],
      "metadata": {
        "colab": {
          "base_uri": "https://localhost:8080/",
          "height": 206
        },
        "id": "6BgvqZoqbQR3",
        "outputId": "e9df15a2-001d-4944-89ac-5eabe3f1e5aa"
      },
      "execution_count": 5,
      "outputs": [
        {
          "output_type": "execute_result",
          "data": {
            "text/plain": [
              "        Daerah  tahun      tanaman  Luas panen (ha)  produksi (kuintal)  \\\n",
              "0      Pacitan   2020  Cabai Rawit            259.0              8252.0   \n",
              "1     Ponorogo   2020  Cabai Rawit            467.0             20335.0   \n",
              "2   Trenggalek   2020  Cabai Rawit            411.0             10378.0   \n",
              "3  Tulungagung   2020  Cabai Rawit            239.0              9491.0   \n",
              "4       Blitar   2020  Cabai Rawit          10745.0           1881377.0   \n",
              "\n",
              "   harga (/kg)  \n",
              "0        18000  \n",
              "1        13500  \n",
              "2        14500  \n",
              "3        14666  \n",
              "4        14500  "
            ],
            "text/html": [
              "\n",
              "  <div id=\"df-0c696d26-2e74-462c-a4e8-fb5c8bcb04f0\">\n",
              "    <div class=\"colab-df-container\">\n",
              "      <div>\n",
              "<style scoped>\n",
              "    .dataframe tbody tr th:only-of-type {\n",
              "        vertical-align: middle;\n",
              "    }\n",
              "\n",
              "    .dataframe tbody tr th {\n",
              "        vertical-align: top;\n",
              "    }\n",
              "\n",
              "    .dataframe thead th {\n",
              "        text-align: right;\n",
              "    }\n",
              "</style>\n",
              "<table border=\"1\" class=\"dataframe\">\n",
              "  <thead>\n",
              "    <tr style=\"text-align: right;\">\n",
              "      <th></th>\n",
              "      <th>Daerah</th>\n",
              "      <th>tahun</th>\n",
              "      <th>tanaman</th>\n",
              "      <th>Luas panen (ha)</th>\n",
              "      <th>produksi (kuintal)</th>\n",
              "      <th>harga (/kg)</th>\n",
              "    </tr>\n",
              "  </thead>\n",
              "  <tbody>\n",
              "    <tr>\n",
              "      <th>0</th>\n",
              "      <td>Pacitan</td>\n",
              "      <td>2020</td>\n",
              "      <td>Cabai Rawit</td>\n",
              "      <td>259.0</td>\n",
              "      <td>8252.0</td>\n",
              "      <td>18000</td>\n",
              "    </tr>\n",
              "    <tr>\n",
              "      <th>1</th>\n",
              "      <td>Ponorogo</td>\n",
              "      <td>2020</td>\n",
              "      <td>Cabai Rawit</td>\n",
              "      <td>467.0</td>\n",
              "      <td>20335.0</td>\n",
              "      <td>13500</td>\n",
              "    </tr>\n",
              "    <tr>\n",
              "      <th>2</th>\n",
              "      <td>Trenggalek</td>\n",
              "      <td>2020</td>\n",
              "      <td>Cabai Rawit</td>\n",
              "      <td>411.0</td>\n",
              "      <td>10378.0</td>\n",
              "      <td>14500</td>\n",
              "    </tr>\n",
              "    <tr>\n",
              "      <th>3</th>\n",
              "      <td>Tulungagung</td>\n",
              "      <td>2020</td>\n",
              "      <td>Cabai Rawit</td>\n",
              "      <td>239.0</td>\n",
              "      <td>9491.0</td>\n",
              "      <td>14666</td>\n",
              "    </tr>\n",
              "    <tr>\n",
              "      <th>4</th>\n",
              "      <td>Blitar</td>\n",
              "      <td>2020</td>\n",
              "      <td>Cabai Rawit</td>\n",
              "      <td>10745.0</td>\n",
              "      <td>1881377.0</td>\n",
              "      <td>14500</td>\n",
              "    </tr>\n",
              "  </tbody>\n",
              "</table>\n",
              "</div>\n",
              "      <button class=\"colab-df-convert\" onclick=\"convertToInteractive('df-0c696d26-2e74-462c-a4e8-fb5c8bcb04f0')\"\n",
              "              title=\"Convert this dataframe to an interactive table.\"\n",
              "              style=\"display:none;\">\n",
              "        \n",
              "  <svg xmlns=\"http://www.w3.org/2000/svg\" height=\"24px\"viewBox=\"0 0 24 24\"\n",
              "       width=\"24px\">\n",
              "    <path d=\"M0 0h24v24H0V0z\" fill=\"none\"/>\n",
              "    <path d=\"M18.56 5.44l.94 2.06.94-2.06 2.06-.94-2.06-.94-.94-2.06-.94 2.06-2.06.94zm-11 1L8.5 8.5l.94-2.06 2.06-.94-2.06-.94L8.5 2.5l-.94 2.06-2.06.94zm10 10l.94 2.06.94-2.06 2.06-.94-2.06-.94-.94-2.06-.94 2.06-2.06.94z\"/><path d=\"M17.41 7.96l-1.37-1.37c-.4-.4-.92-.59-1.43-.59-.52 0-1.04.2-1.43.59L10.3 9.45l-7.72 7.72c-.78.78-.78 2.05 0 2.83L4 21.41c.39.39.9.59 1.41.59.51 0 1.02-.2 1.41-.59l7.78-7.78 2.81-2.81c.8-.78.8-2.07 0-2.86zM5.41 20L4 18.59l7.72-7.72 1.47 1.35L5.41 20z\"/>\n",
              "  </svg>\n",
              "      </button>\n",
              "      \n",
              "  <style>\n",
              "    .colab-df-container {\n",
              "      display:flex;\n",
              "      flex-wrap:wrap;\n",
              "      gap: 12px;\n",
              "    }\n",
              "\n",
              "    .colab-df-convert {\n",
              "      background-color: #E8F0FE;\n",
              "      border: none;\n",
              "      border-radius: 50%;\n",
              "      cursor: pointer;\n",
              "      display: none;\n",
              "      fill: #1967D2;\n",
              "      height: 32px;\n",
              "      padding: 0 0 0 0;\n",
              "      width: 32px;\n",
              "    }\n",
              "\n",
              "    .colab-df-convert:hover {\n",
              "      background-color: #E2EBFA;\n",
              "      box-shadow: 0px 1px 2px rgba(60, 64, 67, 0.3), 0px 1px 3px 1px rgba(60, 64, 67, 0.15);\n",
              "      fill: #174EA6;\n",
              "    }\n",
              "\n",
              "    [theme=dark] .colab-df-convert {\n",
              "      background-color: #3B4455;\n",
              "      fill: #D2E3FC;\n",
              "    }\n",
              "\n",
              "    [theme=dark] .colab-df-convert:hover {\n",
              "      background-color: #434B5C;\n",
              "      box-shadow: 0px 1px 3px 1px rgba(0, 0, 0, 0.15);\n",
              "      filter: drop-shadow(0px 1px 2px rgba(0, 0, 0, 0.3));\n",
              "      fill: #FFFFFF;\n",
              "    }\n",
              "  </style>\n",
              "\n",
              "      <script>\n",
              "        const buttonEl =\n",
              "          document.querySelector('#df-0c696d26-2e74-462c-a4e8-fb5c8bcb04f0 button.colab-df-convert');\n",
              "        buttonEl.style.display =\n",
              "          google.colab.kernel.accessAllowed ? 'block' : 'none';\n",
              "\n",
              "        async function convertToInteractive(key) {\n",
              "          const element = document.querySelector('#df-0c696d26-2e74-462c-a4e8-fb5c8bcb04f0');\n",
              "          const dataTable =\n",
              "            await google.colab.kernel.invokeFunction('convertToInteractive',\n",
              "                                                     [key], {});\n",
              "          if (!dataTable) return;\n",
              "\n",
              "          const docLinkHtml = 'Like what you see? Visit the ' +\n",
              "            '<a target=\"_blank\" href=https://colab.research.google.com/notebooks/data_table.ipynb>data table notebook</a>'\n",
              "            + ' to learn more about interactive tables.';\n",
              "          element.innerHTML = '';\n",
              "          dataTable['output_type'] = 'display_data';\n",
              "          await google.colab.output.renderOutput(dataTable, element);\n",
              "          const docLink = document.createElement('div');\n",
              "          docLink.innerHTML = docLinkHtml;\n",
              "          element.appendChild(docLink);\n",
              "        }\n",
              "      </script>\n",
              "    </div>\n",
              "  </div>\n",
              "  "
            ]
          },
          "metadata": {},
          "execution_count": 5
        }
      ]
    },
    {
      "cell_type": "code",
      "source": [
        "data.info()"
      ],
      "metadata": {
        "colab": {
          "base_uri": "https://localhost:8080/"
        },
        "id": "3865LFzOMVPZ",
        "outputId": "b6bf1679-0de4-4996-ffe5-e3c301373da0"
      },
      "execution_count": 6,
      "outputs": [
        {
          "output_type": "stream",
          "name": "stdout",
          "text": [
            "<class 'pandas.core.frame.DataFrame'>\n",
            "RangeIndex: 465 entries, 0 to 464\n",
            "Data columns (total 6 columns):\n",
            " #   Column              Non-Null Count  Dtype  \n",
            "---  ------              --------------  -----  \n",
            " 0   Daerah              465 non-null    object \n",
            " 1   tahun               465 non-null    int64  \n",
            " 2   tanaman             465 non-null    object \n",
            " 3   Luas panen (ha)     465 non-null    float64\n",
            " 4   produksi (kuintal)  465 non-null    float64\n",
            " 5   harga (/kg)         465 non-null    int64  \n",
            "dtypes: float64(2), int64(2), object(2)\n",
            "memory usage: 21.9+ KB\n"
          ]
        }
      ]
    },
    {
      "cell_type": "code",
      "source": [
        "# Daftar kategori unik dalam kolom \"tanaman\" dan \"Daerah\"\n",
        "unique_tanaman = data['tanaman'].unique()\n",
        "unique_daerah = data['Daerah'].unique()\n",
        "\n",
        "# Membuat kamus pemetaan kategori ke nilai numerik\n",
        "tanaman_mapping = {tanaman: i for i, tanaman in enumerate(unique_tanaman)}\n",
        "daerah_mapping = {daerah: i for i, daerah in enumerate(unique_daerah)}\n",
        "\n",
        "# Mengganti nilai kategori dengan nilai numerik menggunakan metode replace()\n",
        "data['tanaman'] = data['tanaman'].replace(tanaman_mapping)\n",
        "data['Daerah'] = data['Daerah'].replace(daerah_mapping)"
      ],
      "metadata": {
        "id": "iWvGXFZjO0yu"
      },
      "execution_count": 7,
      "outputs": []
    },
    {
      "cell_type": "code",
      "source": [
        "print(data['tanaman'].unique())"
      ],
      "metadata": {
        "colab": {
          "base_uri": "https://localhost:8080/"
        },
        "id": "0bc994hiT9RG",
        "outputId": "8a7e803b-7546-48c0-98fb-e5fc7b917dd6"
      },
      "execution_count": 8,
      "outputs": [
        {
          "output_type": "stream",
          "name": "stdout",
          "text": [
            "[0 1 2 3 4]\n"
          ]
        }
      ]
    },
    {
      "cell_type": "code",
      "source": [
        "# Visualisasi kolom 'harga (/kg)' untuk setiap jenis tanaman\n",
        "plt.figure(figsize=(16, 8))\n",
        "plt.title('Harga Tiap Tanaman')\n",
        "\n",
        "tanaman_mapping = {0: 'Cabai Rawit', 1: 'Bawang Merah', 2: 'Bawang Putih', 3: 'Kentang', 4: 'Kubis'}\n",
        "\n",
        "for tanaman_id, tanaman_label in tanaman_mapping.items():\n",
        "    filtered_data = data[data['tanaman'] == tanaman_id]\n",
        "    plt.plot(filtered_data['harga (/kg)'], marker='o', label=tanaman_label)\n",
        "\n",
        "plt.xlabel('Indeks Data', fontsize=18)\n",
        "plt.ylabel('Harga (/kg)', fontsize=18)\n",
        "plt.legend()\n",
        "plt.show()"
      ],
      "metadata": {
        "colab": {
          "base_uri": "https://localhost:8080/",
          "height": 728
        },
        "id": "pfKCWbVBQX8t",
        "outputId": "12b48131-9f4b-411c-daa8-109f3f30ddfe"
      },
      "execution_count": 9,
      "outputs": [
        {
          "output_type": "display_data",
          "data": {
            "text/plain": [
              "<Figure size 1600x800 with 1 Axes>"
            ],
            "image/png": "[encoded data removed]"
          },
          "metadata": {}
        }
      ]
    },
    {
      "cell_type": "code",
      "source": [
        "# Membuat dataframe baru dengan kolom yang berpengaruh\n",
        "relevant_columns = ['Daerah', 'tahun', 'tanaman', 'Luas panen (ha)', 'produksi (kuintal)', 'harga (/kg)']\n",
        "data = data[relevant_columns]\n",
        "\n",
        "# Mengambil kolom 'daerah' dan 'tanaman' sebagai kategori (tidak ikut scaling dan normalisasi)\n",
        "kategori_data = data[['Daerah', 'tahun', 'tanaman']]\n",
        "\n",
        "# Mengambil kolom-kolom numerik untuk scaling dan normalisasi\n",
        "numeric_data = data.drop(['Daerah', 'tahun', 'tanaman', 'harga (/kg)'], axis=1)\n",
        "\n",
        "# harga data\n",
        "harga_data = data[[\"harga (/kg)\"]]\n",
        "\n",
        "# Scaling dan normalisasi\n",
        "scaler = MinMaxScaler()\n",
        "scaled_numeric_data = scaler.fit_transform(harga_data)\n",
        "\n",
        "# Menggabungkan kembali kolom-kolom yang telah diubah dan yang tidak ikut diubah\n",
        "scaled_data = pd.DataFrame(scaled_numeric_data, columns=harga_data.columns)\n",
        "scaled_dataset = pd.concat([kategori_data, numeric_data], axis=1)\n",
        "scaled_dataset = pd.concat([scaled_dataset, scaled_data], axis=1)\n",
        "\n",
        "# hasil scaling dan normalisasi\n",
        "print(\"Data setelah scaling dan normalisasi:\")\n",
        "print(scaled_dataset)\n",
        "# scaled_dataset"
      ],
      "metadata": {
        "colab": {
          "base_uri": "https://localhost:8080/"
        },
        "id": "NrX3ZZzzlaCR",
        "outputId": "0d18603d-6931-4a11-d6fb-1d32d1b380ae"
      },
      "execution_count": 10,
      "outputs": [
        {
          "output_type": "stream",
          "name": "stdout",
          "text": [
            "Data setelah scaling dan normalisasi:\n",
            "     Daerah  tahun  tanaman  Luas panen (ha)  produksi (kuintal)  harga (/kg)\n",
            "0         0   2020        0            259.0            8252.000     0.192349\n",
            "1         1   2020        0            467.0           20335.000     0.128587\n",
            "2         2   2020        0            411.0           10378.000     0.142756\n",
            "3         3   2020        0            239.0            9491.000     0.145108\n",
            "4         4   2020        0          10745.0         1881377.000     0.142756\n",
            "..      ...    ...      ...              ...                 ...          ...\n",
            "460      26   2022        4             -1.0              -1.000     0.078994\n",
            "461      27   2022        4              1.0             210.000     0.036486\n",
            "462      28   2022        4             -1.0              -1.000     0.050655\n",
            "463      29   2022        4             -1.0              -1.000     0.078994\n",
            "464      30   2022        4            246.0              44.241     0.078994\n",
            "\n",
            "[465 rows x 6 columns]\n"
          ]
        }
      ]
    },
    {
      "cell_type": "code",
      "source": [
        "# Mengonversi data ke dalam array numpy\n",
        "X = scaled_dataset[['Daerah', 'tahun', 'tanaman', 'Luas panen (ha)', 'produksi (kuintal)']].values\n",
        "y = scaled_dataset['harga (/kg)'].values\n",
        "\n",
        "# Menghitung jumlah baris untuk melatih model (80%)\n",
        "training_data_len = math.ceil(len(scaled_dataset) * 0.8)\n",
        "\n",
        "# mengitung jumlah baris untuk melatih model (20%)\n",
        "test_data_len = math.ceil(len(scaled_dataset) * 0.2)\n",
        "\n",
        "X_train = X[:training_data_len]\n",
        "y_train = y[:training_data_len]\n",
        "\n",
        "X_test = X[training_data_len:]\n",
        "y_test = y[training_data_len:]\n",
        "\n",
        "print(\"Jumlah data latih:\", training_data_len)"
      ],
      "metadata": {
        "colab": {
          "base_uri": "https://localhost:8080/"
        },
        "id": "H2Vin1W7Q494",
        "outputId": "93e9aebf-b9c3-432e-efbb-34ddae608e80"
      },
      "execution_count": 11,
      "outputs": [
        {
          "output_type": "stream",
          "name": "stdout",
          "text": [
            "Jumlah data latih: 372\n"
          ]
        }
      ]
    },
    {
      "cell_type": "code",
      "source": [
        "# Periksa nama kolom yang tersedia dalam DataFrame data\n",
        "print(data.columns)"
      ],
      "metadata": {
        "id": "MBNySg2UdwYF",
        "colab": {
          "base_uri": "https://localhost:8080/"
        },
        "outputId": "c4c1a8d9-d7b6-477c-81f7-c38cfbb8a531"
      },
      "execution_count": 12,
      "outputs": [
        {
          "output_type": "stream",
          "name": "stdout",
          "text": [
            "Index(['Daerah', 'tahun', 'tanaman', 'Luas panen (ha)', 'produksi (kuintal)',\n",
            "       'harga (/kg)'],\n",
            "      dtype='object')\n"
          ]
        }
      ]
    },
    {
      "cell_type": "code",
      "source": [
        "# Create training dataset using sliding window approach\n",
        "window_size = 1\n",
        "x_train = []\n",
        "y_train = []\n",
        "for i in range(window_size, len(X_train)):\n",
        "    x_train.append(X_train[i-window_size:i])\n",
        "    y_train.append(y[i])  # Menggunakan y sebagai variabel target\n",
        "\n",
        "# Convert to numpy arrays\n",
        "x_train = np.array(x_train)\n",
        "y_train = np.array(y_train)\n",
        "\n",
        "# Reshape y_train to have the same number of dimensions as y_test\n",
        "y_train = np.reshape(y_train, (y_train.shape[0], 1))\n",
        "\n",
        "# Print shape of the training dataset\n",
        "print(\"Shape of x_train:\", x_train.shape)\n",
        "print(\"Shape of y_train:\", y_train.shape)\n",
        "x_train[0][0]\n"
      ],
      "metadata": {
        "id": "qz6_-DbIVpJd",
        "colab": {
          "base_uri": "https://localhost:8080/"
        },
        "outputId": "f4c6b1f2-aa29-4f42-aa1c-65f65d57acd6"
      },
      "execution_count": 13,
      "outputs": [
        {
          "output_type": "stream",
          "name": "stdout",
          "text": [
            "Shape of x_train: (371, 1, 5)\n",
            "Shape of y_train: (371, 1)\n"
          ]
        },
        {
          "output_type": "execute_result",
          "data": {
            "text/plain": [
              "array([   0., 2020.,    0.,  259., 8252.])"
            ]
          },
          "metadata": {},
          "execution_count": 13
        }
      ]
    },
    {
      "cell_type": "code",
      "source": [
        "x_train = np.array(x_train)\n",
        "print(x_train.shape)\n"
      ],
      "metadata": {
        "colab": {
          "base_uri": "https://localhost:8080/"
        },
        "id": "Hyp7tn-vq7ne",
        "outputId": "b8bc1ae7-12d0-4d97-f88a-eb9d19926615"
      },
      "execution_count": 14,
      "outputs": [
        {
          "output_type": "stream",
          "name": "stdout",
          "text": [
            "(371, 1, 5)\n"
          ]
        }
      ]
    },
    {
      "cell_type": "code",
      "source": [
        "# Membuat model MLP\n",
        "model = Sequential()\n",
        "model.add(Dense(64, activation='relu', input_shape=(x_train.shape[1], x_train.shape[2])))\n",
        "model.add(Dense(64, activation='relu'))\n",
        "model.add(Dense(1, activation='linear'))"
      ],
      "metadata": {
        "id": "tJ1fZgfNpbjP"
      },
      "execution_count": 15,
      "outputs": []
    },
    {
      "cell_type": "code",
      "source": [
        "# Compile dan latih model\n",
        "from sklearn import metrics\n",
        "model.compile(optimizer='adam', loss='mean_squared_error')\n",
        "history = model.fit(x_train, y_train, epochs=100, batch_size=64, verbose=1)\n"
      ],
      "metadata": {
        "id": "c2MxVHAqpeI4",
        "colab": {
          "base_uri": "https://localhost:8080/"
        },
        "outputId": "b7ad4081-36d6-4699-f193-aedccabd08e8"
      },
      "execution_count": 16,
      "outputs": [
        {
          "output_type": "stream",
          "name": "stdout",
          "text": [
            "Epoch 1/100\n",
            "6/6 [==============================] - 2s 5ms/step - loss: 394097472.0000\n",
            "Epoch 2/100\n",
            "6/6 [==============================] - 0s 4ms/step - loss: 154340928.0000\n",
            "Epoch 3/100\n",
            "6/6 [==============================] - 0s 4ms/step - loss: 24434978.0000\n",
            "Epoch 4/100\n",
            "6/6 [==============================] - 0s 4ms/step - loss: 62274092.0000\n",
            "Epoch 5/100\n",
            "6/6 [==============================] - 0s 3ms/step - loss: 12917349.0000\n",
            "Epoch 6/100\n",
            "6/6 [==============================] - 0s 3ms/step - loss: 21458074.0000\n",
            "Epoch 7/100\n",
            "6/6 [==============================] - 0s 3ms/step - loss: 16189038.0000\n",
            "Epoch 8/100\n",
            "6/6 [==============================] - 0s 3ms/step - loss: 2349000.5000\n",
            "Epoch 9/100\n",
            "6/6 [==============================] - 0s 3ms/step - loss: 10105028.0000\n",
            "Epoch 10/100\n",
            "6/6 [==============================] - 0s 3ms/step - loss: 3347798.2500\n",
            "Epoch 11/100\n",
            "6/6 [==============================] - 0s 4ms/step - loss: 3405283.7500\n",
            "Epoch 12/100\n",
            "6/6 [==============================] - 0s 5ms/step - loss: 3574067.5000\n",
            "Epoch 13/100\n",
            "6/6 [==============================] - 0s 5ms/step - loss: 2495795.5000\n",
            "Epoch 14/100\n",
            "6/6 [==============================] - 0s 5ms/step - loss: 485707.3750\n",
            "Epoch 15/100\n",
            "6/6 [==============================] - 0s 4ms/step - loss: 365086.3750\n",
            "Epoch 16/100\n",
            "6/6 [==============================] - 0s 4ms/step - loss: 462194.5000\n",
            "Epoch 17/100\n",
            "6/6 [==============================] - 0s 4ms/step - loss: 313204.5625\n",
            "Epoch 18/100\n",
            "6/6 [==============================] - 0s 4ms/step - loss: 274854.6562\n",
            "Epoch 19/100\n",
            "6/6 [==============================] - 0s 3ms/step - loss: 440593.5938\n",
            "Epoch 20/100\n",
            "6/6 [==============================] - 0s 4ms/step - loss: 388582.5000\n",
            "Epoch 21/100\n",
            "6/6 [==============================] - 0s 17ms/step - loss: 84542.1719\n",
            "Epoch 22/100\n",
            "6/6 [==============================] - 0s 4ms/step - loss: 68761.3828\n",
            "Epoch 23/100\n",
            "6/6 [==============================] - 0s 3ms/step - loss: 63667.3008\n",
            "Epoch 24/100\n",
            "6/6 [==============================] - 0s 3ms/step - loss: 100907.0703\n",
            "Epoch 25/100\n",
            "6/6 [==============================] - 0s 4ms/step - loss: 71966.9688\n",
            "Epoch 26/100\n",
            "6/6 [==============================] - 0s 3ms/step - loss: 56088.8555\n",
            "Epoch 27/100\n",
            "6/6 [==============================] - 0s 3ms/step - loss: 51232.6289\n",
            "Epoch 28/100\n",
            "6/6 [==============================] - 0s 4ms/step - loss: 57634.4062\n",
            "Epoch 29/100\n",
            "6/6 [==============================] - 0s 5ms/step - loss: 42670.5703\n",
            "Epoch 30/100\n",
            "6/6 [==============================] - 0s 4ms/step - loss: 64150.2969\n",
            "Epoch 31/100\n",
            "6/6 [==============================] - 0s 3ms/step - loss: 76491.5078\n",
            "Epoch 32/100\n",
            "6/6 [==============================] - 0s 3ms/step - loss: 119202.9531\n",
            "Epoch 33/100\n",
            "6/6 [==============================] - 0s 5ms/step - loss: 142220.1719\n",
            "Epoch 34/100\n",
            "6/6 [==============================] - 0s 4ms/step - loss: 113173.3125\n",
            "Epoch 35/100\n",
            "6/6 [==============================] - 0s 4ms/step - loss: 142122.3438\n",
            "Epoch 36/100\n",
            "6/6 [==============================] - 0s 4ms/step - loss: 193964.0781\n",
            "Epoch 37/100\n",
            "6/6 [==============================] - 0s 4ms/step - loss: 405274.6562\n",
            "Epoch 38/100\n",
            "6/6 [==============================] - 0s 4ms/step - loss: 443200.2500\n",
            "Epoch 39/100\n",
            "6/6 [==============================] - 0s 4ms/step - loss: 185935.2188\n",
            "Epoch 40/100\n",
            "6/6 [==============================] - 0s 5ms/step - loss: 106567.0312\n",
            "Epoch 41/100\n",
            "6/6 [==============================] - 0s 5ms/step - loss: 121069.9844\n",
            "Epoch 42/100\n",
            "6/6 [==============================] - 0s 4ms/step - loss: 152543.5781\n",
            "Epoch 43/100\n",
            "6/6 [==============================] - 0s 4ms/step - loss: 220429.0625\n",
            "Epoch 44/100\n",
            "6/6 [==============================] - 0s 4ms/step - loss: 202764.0781\n",
            "Epoch 45/100\n",
            "6/6 [==============================] - 0s 4ms/step - loss: 135064.4375\n",
            "Epoch 46/100\n",
            "6/6 [==============================] - 0s 5ms/step - loss: 104183.3281\n",
            "Epoch 47/100\n",
            "6/6 [==============================] - 0s 4ms/step - loss: 80359.4062\n",
            "Epoch 48/100\n",
            "6/6 [==============================] - 0s 3ms/step - loss: 108579.3984\n",
            "Epoch 49/100\n",
            "6/6 [==============================] - 0s 3ms/step - loss: 86155.0547\n",
            "Epoch 50/100\n",
            "6/6 [==============================] - 0s 4ms/step - loss: 79549.0781\n",
            "Epoch 51/100\n",
            "6/6 [==============================] - 0s 4ms/step - loss: 88910.5703\n",
            "Epoch 52/100\n",
            "6/6 [==============================] - 0s 4ms/step - loss: 91045.3281\n",
            "Epoch 53/100\n",
            "6/6 [==============================] - 0s 3ms/step - loss: 85709.6016\n",
            "Epoch 54/100\n",
            "6/6 [==============================] - 0s 4ms/step - loss: 74766.6328\n",
            "Epoch 55/100\n",
            "6/6 [==============================] - 0s 4ms/step - loss: 84265.8438\n",
            "Epoch 56/100\n",
            "6/6 [==============================] - 0s 3ms/step - loss: 88422.0156\n",
            "Epoch 57/100\n",
            "6/6 [==============================] - 0s 4ms/step - loss: 75421.0547\n",
            "Epoch 58/100\n",
            "6/6 [==============================] - 0s 4ms/step - loss: 97332.4062\n",
            "Epoch 59/100\n",
            "6/6 [==============================] - 0s 3ms/step - loss: 124462.3281\n",
            "Epoch 60/100\n",
            "6/6 [==============================] - 0s 3ms/step - loss: 78845.7969\n",
            "Epoch 61/100\n",
            "6/6 [==============================] - 0s 3ms/step - loss: 111920.4609\n",
            "Epoch 62/100\n",
            "6/6 [==============================] - 0s 4ms/step - loss: 105113.8906\n",
            "Epoch 63/100\n",
            "6/6 [==============================] - 0s 3ms/step - loss: 80057.9453\n",
            "Epoch 64/100\n",
            "6/6 [==============================] - 0s 4ms/step - loss: 65513.3750\n",
            "Epoch 65/100\n",
            "6/6 [==============================] - 0s 4ms/step - loss: 59135.2227\n",
            "Epoch 66/100\n",
            "6/6 [==============================] - 0s 5ms/step - loss: 64150.3359\n",
            "Epoch 67/100\n",
            "6/6 [==============================] - 0s 3ms/step - loss: 68078.6016\n",
            "Epoch 68/100\n",
            "6/6 [==============================] - 0s 4ms/step - loss: 161487.2188\n",
            "Epoch 69/100\n",
            "6/6 [==============================] - 0s 5ms/step - loss: 60270.5352\n",
            "Epoch 70/100\n",
            "6/6 [==============================] - 0s 4ms/step - loss: 130357.2578\n",
            "Epoch 71/100\n",
            "6/6 [==============================] - 0s 3ms/step - loss: 66272.6406\n",
            "Epoch 72/100\n",
            "6/6 [==============================] - 0s 5ms/step - loss: 53730.9258\n",
            "Epoch 73/100\n",
            "6/6 [==============================] - 0s 5ms/step - loss: 53131.7305\n",
            "Epoch 74/100\n",
            "6/6 [==============================] - 0s 3ms/step - loss: 45840.3672\n",
            "Epoch 75/100\n",
            "6/6 [==============================] - 0s 3ms/step - loss: 106745.3359\n",
            "Epoch 76/100\n",
            "6/6 [==============================] - 0s 3ms/step - loss: 115942.7266\n",
            "Epoch 77/100\n",
            "6/6 [==============================] - 0s 3ms/step - loss: 87450.3828\n",
            "Epoch 78/100\n",
            "6/6 [==============================] - 0s 3ms/step - loss: 54905.5586\n",
            "Epoch 79/100\n",
            "6/6 [==============================] - 0s 3ms/step - loss: 118299.1484\n",
            "Epoch 80/100\n",
            "6/6 [==============================] - 0s 4ms/step - loss: 155575.0156\n",
            "Epoch 81/100\n",
            "6/6 [==============================] - 0s 3ms/step - loss: 225638.2812\n",
            "Epoch 82/100\n",
            "6/6 [==============================] - 0s 3ms/step - loss: 321846.5625\n",
            "Epoch 83/100\n",
            "6/6 [==============================] - 0s 3ms/step - loss: 374783.5625\n",
            "Epoch 84/100\n",
            "6/6 [==============================] - 0s 4ms/step - loss: 453842.8438\n",
            "Epoch 85/100\n",
            "6/6 [==============================] - 0s 3ms/step - loss: 1086738.2500\n",
            "Epoch 86/100\n",
            "6/6 [==============================] - 0s 3ms/step - loss: 692841.9375\n",
            "Epoch 87/100\n",
            "6/6 [==============================] - 0s 4ms/step - loss: 315153.6562\n",
            "Epoch 88/100\n",
            "6/6 [==============================] - 0s 4ms/step - loss: 294105.0000\n",
            "Epoch 89/100\n",
            "6/6 [==============================] - 0s 3ms/step - loss: 124145.3984\n",
            "Epoch 90/100\n",
            "6/6 [==============================] - 0s 3ms/step - loss: 125028.4531\n",
            "Epoch 91/100\n",
            "6/6 [==============================] - 0s 3ms/step - loss: 86127.6250\n",
            "Epoch 92/100\n",
            "6/6 [==============================] - 0s 3ms/step - loss: 176857.7344\n",
            "Epoch 93/100\n",
            "6/6 [==============================] - 0s 3ms/step - loss: 171455.0781\n",
            "Epoch 94/100\n",
            "6/6 [==============================] - 0s 3ms/step - loss: 130306.3516\n",
            "Epoch 95/100\n",
            "6/6 [==============================] - 0s 3ms/step - loss: 221177.0312\n",
            "Epoch 96/100\n",
            "6/6 [==============================] - 0s 3ms/step - loss: 88933.6484\n",
            "Epoch 97/100\n",
            "6/6 [==============================] - 0s 3ms/step - loss: 190785.9219\n",
            "Epoch 98/100\n",
            "6/6 [==============================] - 0s 3ms/step - loss: 127522.8906\n",
            "Epoch 99/100\n",
            "6/6 [==============================] - 0s 3ms/step - loss: 123408.6484\n",
            "Epoch 100/100\n",
            "6/6 [==============================] - 0s 3ms/step - loss: 421127.3438\n"
          ]
        }
      ]
    },
    {
      "cell_type": "code",
      "source": [
        "#show model loss\n",
        "plt.plot(history.history['loss'])\n",
        "plt.title('Model loss')\n",
        "plt.ylabel('Loss')\n",
        "plt.xlabel('Epoch')\n",
        "plt.legend(['Train', 'Test'], loc='upper left')\n",
        "plt.show()"
      ],
      "metadata": {
        "id": "MxDyY67tEFhA",
        "outputId": "62c0db67-6e67-410f-d8c2-f78072bb8322",
        "colab": {
          "base_uri": "https://localhost:8080/",
          "height": 472
        }
      },
      "execution_count": 17,
      "outputs": [
        {
          "output_type": "display_data",
          "data": {
            "text/plain": [
              "<Figure size 640x480 with 1 Axes>"
            ],
            "image/png": "[encoded data removed]"
          },
          "metadata": {}
        }
      ]
    },
    {
      "cell_type": "code",
      "source": [],
      "metadata": {
        "id": "c0SLm8kaYGn-"
      },
      "execution_count": 17,
      "outputs": []
    },
    {
      "cell_type": "code",
      "source": [],
      "metadata": {
        "id": "bO1KORa0f3yf"
      },
      "execution_count": 17,
      "outputs": []
    },
    {
      "cell_type": "code",
      "source": [
        "# Membuat x_test dan y_test_actual\n",
        "window_size = 1\n",
        "x_test = []\n",
        "y_test_actual = []\n",
        "for i in range(window_size, len(X_test)):\n",
        "    x_test.append(X_test[i-window_size:i, :5])  # Menggunakan hanya 5 kolom fitur\n",
        " # Menggunakan semua kolom fitur\n",
        "    y_test_actual.append(y_test[i])\n",
        "\n",
        "# x_test.shape\n",
        "# y_test_actual\n",
        "# Mengonversi data menjadi array numpy\n",
        "x_test = np.array(x_test)\n",
        "x_test.shape\n",
        "# print(x_test)\n",
        "# y_test_actual = np.array(y_test_actual)\n",
        "# x_test\n",
        "\n",
        "# # Mengubah dimensi x_test\n",
        "# x_test = np.reshape(x_test, (x_test.shape[0], x_test.shape[1]))  # Menggunakan 5 kolom fitur\n",
        "\n",
        "# # Menggunakan model untuk melakukan prediksi pada data uji\n",
        "test_predictions = model.predict(x_train[1:])\n",
        "# test_predictions[0][0][0]\n",
        "\n",
        "# # # Mengembalikan skala asli pada data prediksi\n",
        "test_predictions = scaler.inverse_transform(test_predictions[0])\n",
        "# print(test_predictions[0])\n",
        "\n",
        "# x_test\n",
        "# # Mengembalikan skala asli pada data aktual\n",
        "# y_test_actual_scaled = scaler.inverse_transform(y_test_actual.reshape(-1, 1))\n",
        "\n",
        "# Menghitung RMSE\n",
        "test_rmse = np.sqrt(np.mean(np.square(test_predictions)))\n",
        "print(\"Testing RMSE:\", test_rmse)\n"
      ],
      "metadata": {
        "id": "YRtOfCmEp8NL",
        "colab": {
          "base_uri": "https://localhost:8080/"
        },
        "outputId": "af3ab115-9a03-452d-d40a-311911ddf3f5"
      },
      "execution_count": 18,
      "outputs": [
        {
          "output_type": "stream",
          "name": "stdout",
          "text": [
            "12/12 [==============================] - 0s 2ms/step\n",
            "Testing RMSE: 3309658.2\n"
          ]
        }
      ]
    },
    {
      "cell_type": "code",
      "source": [
        "# untuk terima input\n",
        "# daerah, tahun, tanaman, luas, produksi\n",
        "daerah = float(input())\n",
        "tahun = float(input())\n",
        "tanaman = float(input())\n",
        "luas = float(input())\n",
        "produksi = float(input())\n",
        "\n",
        "data__test = [[[daerah, tahun, tanaman, luas, produksi]]]\n",
        "tes_prediksi = model.predict(x_train[2:3])\n",
        "# tes_prediksi[0][0][0]\n",
        "\n",
        "# # # Mengembalikan skala asli pada data prediksi\n",
        "tes_prediksi = scaler.inverse_transform(tes_prediksi[0])\n",
        "# print(tes_prediksi[0])\n",
        "\n",
        "# x_test\n",
        "# # Mengembalikan skala asli pada data aktual\n",
        "# y_test_actual_scaled = scaler.inverse_transform(y_test_actual.reshape(-1, 1))\n",
        "\n",
        "# Menghitung RMSE\n",
        "hasil_pre = np.sqrt(np.mean(np.square(tes_prediksi)))\n",
        "print(\"hasil:\", hasil_pre)\n",
        "#     0   2020        0            259.0            8252.000     0.192349"
      ],
      "metadata": {
        "id": "Btftrk5Cwo6R",
        "colab": {
          "base_uri": "https://localhost:8080/"
        },
        "outputId": "8a0dcc8f-4b58-4bb4-a091-823bf946b47b"
      },
      "execution_count": 19,
      "outputs": [
        {
          "output_type": "stream",
          "name": "stdout",
          "text": [
            "0\n",
            "2020\n",
            "0\n",
            "259\n",
            "8252\n",
            "1/1 [==============================] - 0s 21ms/step\n",
            "hasil: 2298865.0\n"
          ]
        }
      ]
    }
  ]
}